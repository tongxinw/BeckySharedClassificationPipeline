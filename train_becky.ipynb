{
 "cells": [
  {
   "cell_type": "code",
   "execution_count": 44,
   "metadata": {},
   "outputs": [],
   "source": [
    "import numpy as np\n",
    "import pandas as pd\n",
    "from sklearn.preprocessing import LabelEncoder\n",
    "from sklearn.preprocessing import OneHotEncoder\n",
    "from sklearn.preprocessing import OrdinalEncoder\n",
    "from sklearn.preprocessing import StandardScaler\n",
    "from sklearn.svm import SVC\n",
    "from sklearn.pipeline import make_pipeline\n",
    "from sklearn.model_selection import GridSearchCV\n",
    "from sklearn.model_selection import train_test_split\n",
    "from sklearn.model_selection import StratifiedKFold\n",
    "from sklearn.compose import ColumnTransformer\n",
    "from sklearn.pipeline import Pipeline\n",
    "\n",
    "import matplotlib.pylab as plt\n",
    "\n",
    "from sklearn.metrics import accuracy_score\n",
    "from sklearn.metrics import make_scorer\n",
    "from sklearn.model_selection import KFold\n",
    "from sklearn.linear_model import Ridge\n",
    "from sklearn.ensemble import RandomForestClassifier\n",
    "from sklearn.linear_model import LogisticRegression\n",
    "from sklearn.metrics import precision_score, recall_score, roc_auc_score, roc_curve, confusion_matrix\n",
    "import seaborn as sns"
   ]
  },
  {
   "cell_type": "markdown",
   "metadata": {},
   "source": [
    "### Balance of the Dataset\n",
    "- it gives a baseline accuracy score\n",
    "    - the simplest classifier that predicts class 0 to all points is correct 75.9% of the time\n",
    "    - a classification model has predictive power if it is  more accurate than the baseline\n",
    "- it can guide what evaluation metric should be used\n",
    "- <mark> For this project, we still use accuracy score to evaluate the model </mark>"
   ]
  },
  {
   "cell_type": "code",
   "execution_count": 45,
   "metadata": {},
   "outputs": [
    {
     "name": "stdout",
     "output_type": "stream",
     "text": [
      "False    0.845255\n",
      "True     0.154745\n",
      "Name: Revenue, dtype: float64\n"
     ]
    },
    {
     "data": {
      "image/png": "[encoded data removed]",
      "text/plain": [
       "<Figure size 432x288 with 1 Axes>"
      ]
     },
     "metadata": {
      "needs_background": "light"
     },
     "output_type": "display_data"
    }
   ],
   "source": [
    "# Load the data\n",
    "df = pd.read_csv(\"../data/online_shoppers_intention.csv\")\n",
    "label = 'Revenue'\n",
    "print(df[label].value_counts()/df[label].shape)\n",
    "plt.bar(['No Purchase', 'Purchase'], df.Revenue.value_counts(normalize=True), color=sns.color_palette(\"GnBu_d\", n_colors=2))\n",
    "plt.title('Balance of the Dataset')\n",
    "plt.ylabel('Proportion of Each Class')\n",
    "plt.show();"
   ]
  },
  {
   "cell_type": "code",
   "execution_count": 46,
   "metadata": {},
   "outputs": [],
   "source": [
    "# Drop the missing data\n",
    "df = df.dropna(axis=0) # axis = 1: drop the columns, axis = 0: drop the rows\n",
    "df.reset_index(drop=True, inplace=True)\n",
    "\n",
    "# Features\n",
    "feature_names = ['Administrative', 'Administrative_Duration', 'Informational','Informational_Duration', 'ProductRelated', \n",
    "                 'ProductRelated_Duration','BounceRates', 'ExitRates', 'PageValues', 'SpecialDay', 'Month',\n",
    "                'OperatingSystems', 'Browser', 'Region', 'TrafficType', 'VisitorType','Weekend']\n",
    "cat_ftrs = ['OperatingSystems','Browser','Region','TrafficType','VisitorType','Weekend']\n",
    "cont_ftrs = ['Administrative', 'Administrative_Duration', 'Informational','Informational_Duration', 'ProductRelated', \n",
    "             'ProductRelated_Duration','PageValues']\n",
    "perct_features = ['BounceRates','ExitRates']\n",
    "ord_features = ['Month','SpecialDay']"
   ]
  },
  {
   "cell_type": "code",
   "execution_count": 47,
   "metadata": {},
   "outputs": [
    {
     "name": "stdout",
     "output_type": "stream",
     "text": [
      "   Administrative  Administrative_Duration  Informational  \\\n",
      "0             0.0                      0.0            0.0   \n",
      "1             0.0                      0.0            0.0   \n",
      "2             0.0                     -1.0            0.0   \n",
      "3             0.0                      0.0            0.0   \n",
      "4             0.0                      0.0            0.0   \n",
      "\n",
      "   Informational_Duration  ProductRelated  ProductRelated_Duration  \\\n",
      "0                     0.0             1.0                 0.000000   \n",
      "1                     0.0             2.0                64.000000   \n",
      "2                    -1.0             1.0                -1.000000   \n",
      "3                     0.0             2.0                 2.666667   \n",
      "4                     0.0            10.0               627.500000   \n",
      "\n",
      "   BounceRates  ExitRates  PageValues  SpecialDay Month  OperatingSystems  \\\n",
      "0         0.20       0.20         0.0         0.0   Feb                 1   \n",
      "1         0.00       0.10         0.0         0.0   Feb                 2   \n",
      "2         0.20       0.20         0.0         0.0   Feb                 4   \n",
      "3         0.05       0.14         0.0         0.0   Feb                 3   \n",
      "4         0.02       0.05         0.0         0.0   Feb                 3   \n",
      "\n",
      "   Browser  Region  TrafficType        VisitorType  Weekend  \n",
      "0        1       1            1  Returning_Visitor    False  \n",
      "1        2       1            2  Returning_Visitor    False  \n",
      "2        1       9            3  Returning_Visitor    False  \n",
      "3        2       2            4  Returning_Visitor    False  \n",
      "4        3       1            4  Returning_Visitor     True  \n",
      "[0 0 0 ... 0 0 0]\n"
     ]
    }
   ],
   "source": [
    "# Preprocess the target variable\n",
    "y = LabelEncoder().fit_transform(df[label])\n",
    "df.drop(columns=[label],inplace=True)\n",
    "X = df\n",
    "ftr_names = X.columns\n",
    "print(X.head())\n",
    "print(y)"
   ]
  },
  {
   "cell_type": "markdown",
   "metadata": {},
   "source": [
    "## Cross Validation and Machine Learning Pipeline:"
   ]
  },
  {
   "cell_type": "code",
   "execution_count": 72,
   "metadata": {},
   "outputs": [
    {
     "name": "stdout",
     "output_type": "stream",
     "text": [
      "test baseline =  0.8449675324675324\n",
      "[1.e-02 1.e-01 1.e+00 1.e+01 1.e+02]\n"
     ]
    }
   ],
   "source": [
    "print('test baseline = ',np.sum(y_test == 0)/len(y_test));\n",
    "print(np.logspace(-2, 2,num=5))"
   ]
  },
  {
   "cell_type": "markdown",
   "metadata": {},
   "source": [
    "### SVC"
   ]
  },
  {
   "cell_type": "code",
   "execution_count": 51,
   "metadata": {},
   "outputs": [],
   "source": [
    "def ML_pipeline_kfold_GridSearchCV_svc(X,y,random_state,n_folds, cm_dict):\n",
    "    # create a test set\n",
    "    X_other, X_test, y_other, y_test = train_test_split(X, y, test_size=0.2, random_state = random_state, stratify=y)\n",
    "    # splitter for _other\n",
    "    kf = StratifiedKFold(n_splits=n_folds,shuffle=True,random_state=random_state)\n",
    "    # create the pipeline: preprocessor + supervised ML method\n",
    "    cat_ftrs = ['OperatingSystems','Browser','Region','TrafficType','VisitorType','Weekend']\n",
    "    cont_ftrs = ['Administrative', 'Administrative_Duration', 'Informational','Informational_Duration', 'ProductRelated', \n",
    "             'ProductRelated_Duration','PageValues']\n",
    "    ordinal_ftrs = ['Month','SpecialDay']\n",
    "    ordinal_cats = [['Feb', 'Mar', 'May', 'June','Jul','Aug','Sep','Oct','Nov','Dec'],['0.0','0.2','0.4', '0.6','0.8', '1.0']]\n",
    "    # one-hot encoder\n",
    "    categorical_transformer = Pipeline(steps=[\n",
    "        ('onehot', OneHotEncoder(sparse=False,handle_unknown='ignore'))])\n",
    "    # standard scaler\n",
    "    numeric_transformer = Pipeline(steps=[\n",
    "        ('scaler', StandardScaler())])\n",
    "\n",
    "    # ordinal scalar\n",
    "    ordinal_transformer = Pipeline(steps=[\n",
    "    ('ordinal', OrdinalEncoder(categories = ordinal_cats))])\n",
    "    \n",
    "    # Final Pipeline\n",
    "    preprocessor = ColumnTransformer(\n",
    "        transformers=[\n",
    "            ('num', numeric_transformer, cont_ftrs),\n",
    "            ('cat', categorical_transformer, cat_ftrs),\n",
    "            ('ordinal', ordinal_transformer, ordinal_ftrs)])\n",
    "    \n",
    "    pipe = make_pipeline(preprocessor,SVC())\n",
    "    \n",
    "    # the parameter(s) we want to tune\n",
    "    param_grid = {'svc__C': np.logspace(-1, 3, num=5),\n",
    "                  'svc__gamma': np.logspace(-2, 2,num=5)}\n",
    "    # prepare gridsearch\n",
    "    grid = GridSearchCV(pipe, param_grid=param_grid,cv=kf, scoring = make_scorer(accuracy_score), return_train_score = True, iid=True , n_jobs=-1,verbose=10)\n",
    "    # do kfold CV on _other\n",
    "    grid.fit(X_other, y_other)\n",
    "    y_pred = grid.predict(X_test)\n",
    "       \n",
    "    # Confusion Matrix\n",
    "    cm = confusion_matrix(y_test,y_pred)\n",
    "#     DR = cm[1,1] / (cm[1,0] + cm[1,1])\n",
    "#     FAR = cm[0,1] / (cm[0,0] + cm[0,1])\n",
    "#     MIR = 1 - DR\n",
    "#     TNR = 1 - FAR\n",
    "\n",
    "    DR = cm[1,1]\n",
    "    FAR = cm[0,1]\n",
    "    MIR = cm[1,0]\n",
    "    TNR = cm[0,0]\n",
    "    cm_dict[\"Detection Rate\"] += DR\n",
    "    cm_dict[\"False Alarm Rate\"] += FAR\n",
    "    cm_dict[\"Miss Rate\"] += MIR\n",
    "    cm_dict[\"True Negative Rate\"] += TNR\n",
    "    \n",
    "    return grid, grid.score(X_test, y_test), X_test, y_test"
   ]
  },
  {
   "cell_type": "code",
   "execution_count": 52,
   "metadata": {},
   "outputs": [
    {
     "name": "stdout",
     "output_type": "stream",
     "text": [
      "Fitting 4 folds for each of 25 candidates, totalling 100 fits\n"
     ]
    },
    {
     "name": "stderr",
     "output_type": "stream",
     "text": [
      "[Parallel(n_jobs=-1)]: Using backend LokyBackend with 2 concurrent workers.\n",
      "[Parallel(n_jobs=-1)]: Done   1 tasks      | elapsed:    5.8s\n",
      "[Parallel(n_jobs=-1)]: Done   4 tasks      | elapsed:   10.7s\n",
      "[Parallel(n_jobs=-1)]: Done   9 tasks      | elapsed:   36.3s\n",
      "[Parallel(n_jobs=-1)]: Done  14 tasks      | elapsed:  1.1min\n",
      "[Parallel(n_jobs=-1)]: Done  21 tasks      | elapsed:  1.9min\n",
      "[Parallel(n_jobs=-1)]: Done  28 tasks      | elapsed:  2.1min\n",
      "[Parallel(n_jobs=-1)]: Done  37 tasks      | elapsed:  3.4min\n",
      "[Parallel(n_jobs=-1)]: Done  46 tasks      | elapsed:  3.8min\n",
      "[Parallel(n_jobs=-1)]: Done  57 tasks      | elapsed:  5.3min\n",
      "[Parallel(n_jobs=-1)]: Done  68 tasks      | elapsed:  6.0min\n",
      "[Parallel(n_jobs=-1)]: Done  81 tasks      | elapsed:  7.8min\n",
      "[Parallel(n_jobs=-1)]: Done  94 tasks      | elapsed:  9.0min\n",
      "[Parallel(n_jobs=-1)]: Done 100 out of 100 | elapsed:  9.9min finished\n"
     ]
    },
    {
     "name": "stdout",
     "output_type": "stream",
     "text": [
      "random_state 42\n",
      "best_score 0.8946406820950061\n",
      "best_parameter {'svc__C': 10.0, 'svc__gamma': 0.01}\n",
      "Fitting 4 folds for each of 25 candidates, totalling 100 fits\n"
     ]
    },
    {
     "name": "stderr",
     "output_type": "stream",
     "text": [
      "[Parallel(n_jobs=-1)]: Using backend LokyBackend with 2 concurrent workers.\n",
      "[Parallel(n_jobs=-1)]: Done   1 tasks      | elapsed:    4.9s\n",
      "[Parallel(n_jobs=-1)]: Done   4 tasks      | elapsed:    9.8s\n",
      "[Parallel(n_jobs=-1)]: Done   9 tasks      | elapsed:   34.1s\n",
      "[Parallel(n_jobs=-1)]: Done  14 tasks      | elapsed:  1.1min\n",
      "[Parallel(n_jobs=-1)]: Done  21 tasks      | elapsed:  1.8min\n",
      "[Parallel(n_jobs=-1)]: Done  28 tasks      | elapsed:  2.1min\n",
      "[Parallel(n_jobs=-1)]: Done  37 tasks      | elapsed:  3.3min\n",
      "[Parallel(n_jobs=-1)]: Done  46 tasks      | elapsed:  3.9min\n",
      "[Parallel(n_jobs=-1)]: Done  57 tasks      | elapsed:  5.3min\n",
      "[Parallel(n_jobs=-1)]: Done  68 tasks      | elapsed:  6.1min\n",
      "[Parallel(n_jobs=-1)]: Done  81 tasks      | elapsed:  7.8min\n",
      "[Parallel(n_jobs=-1)]: Done  94 tasks      | elapsed:  9.2min\n",
      "[Parallel(n_jobs=-1)]: Done 100 out of 100 | elapsed: 10.0min finished\n"
     ]
    },
    {
     "name": "stdout",
     "output_type": "stream",
     "text": [
      "random_state 84\n",
      "best_score 0.8936256597645148\n",
      "best_parameter {'svc__C': 10.0, 'svc__gamma': 0.01}\n",
      "Fitting 4 folds for each of 25 candidates, totalling 100 fits\n"
     ]
    },
    {
     "name": "stderr",
     "output_type": "stream",
     "text": [
      "[Parallel(n_jobs=-1)]: Using backend LokyBackend with 2 concurrent workers.\n",
      "[Parallel(n_jobs=-1)]: Done   1 tasks      | elapsed:    4.8s\n",
      "[Parallel(n_jobs=-1)]: Done   4 tasks      | elapsed:    9.7s\n",
      "[Parallel(n_jobs=-1)]: Done   9 tasks      | elapsed:   35.2s\n",
      "[Parallel(n_jobs=-1)]: Done  14 tasks      | elapsed:  1.1min\n",
      "[Parallel(n_jobs=-1)]: Done  21 tasks      | elapsed:  1.8min\n",
      "[Parallel(n_jobs=-1)]: Done  28 tasks      | elapsed:  2.1min\n",
      "[Parallel(n_jobs=-1)]: Done  37 tasks      | elapsed:  3.4min\n",
      "[Parallel(n_jobs=-1)]: Done  46 tasks      | elapsed:  3.8min\n",
      "[Parallel(n_jobs=-1)]: Done  57 tasks      | elapsed:  5.3min\n",
      "[Parallel(n_jobs=-1)]: Done  68 tasks      | elapsed:  6.0min\n",
      "[Parallel(n_jobs=-1)]: Done  81 tasks      | elapsed:  7.8min\n",
      "[Parallel(n_jobs=-1)]: Done  94 tasks      | elapsed:  9.1min\n",
      "[Parallel(n_jobs=-1)]: Done 100 out of 100 | elapsed: 10.0min finished\n"
     ]
    },
    {
     "name": "stdout",
     "output_type": "stream",
     "text": [
      "random_state 126\n",
      "best_score 0.8916971173365814\n",
      "best_parameter {'svc__C': 1.0, 'svc__gamma': 0.1}\n",
      "Fitting 4 folds for each of 25 candidates, totalling 100 fits\n"
     ]
    },
    {
     "name": "stderr",
     "output_type": "stream",
     "text": [
      "[Parallel(n_jobs=-1)]: Using backend LokyBackend with 2 concurrent workers.\n",
      "[Parallel(n_jobs=-1)]: Done   1 tasks      | elapsed:    4.8s\n",
      "[Parallel(n_jobs=-1)]: Done   4 tasks      | elapsed:    9.7s\n",
      "[Parallel(n_jobs=-1)]: Done   9 tasks      | elapsed:   34.1s\n",
      "[Parallel(n_jobs=-1)]: Done  14 tasks      | elapsed:  1.1min\n",
      "[Parallel(n_jobs=-1)]: Done  21 tasks      | elapsed:  1.8min\n",
      "[Parallel(n_jobs=-1)]: Done  28 tasks      | elapsed:  2.1min\n",
      "[Parallel(n_jobs=-1)]: Done  37 tasks      | elapsed:  3.3min\n",
      "[Parallel(n_jobs=-1)]: Done  46 tasks      | elapsed:  3.9min\n",
      "[Parallel(n_jobs=-1)]: Done  57 tasks      | elapsed:  5.3min\n",
      "[Parallel(n_jobs=-1)]: Done  68 tasks      | elapsed:  6.1min\n",
      "[Parallel(n_jobs=-1)]: Done  81 tasks      | elapsed:  7.8min\n",
      "[Parallel(n_jobs=-1)]: Done  94 tasks      | elapsed:  9.2min\n",
      "[Parallel(n_jobs=-1)]: Done 100 out of 100 | elapsed: 10.0min finished\n"
     ]
    },
    {
     "name": "stdout",
     "output_type": "stream",
     "text": [
      "random_state 168\n",
      "best_score 0.8927121396670726\n",
      "best_parameter {'svc__C': 1.0, 'svc__gamma': 0.1}\n",
      "Fitting 4 folds for each of 25 candidates, totalling 100 fits\n"
     ]
    },
    {
     "name": "stderr",
     "output_type": "stream",
     "text": [
      "[Parallel(n_jobs=-1)]: Using backend LokyBackend with 2 concurrent workers.\n",
      "[Parallel(n_jobs=-1)]: Done   1 tasks      | elapsed:    4.9s\n",
      "[Parallel(n_jobs=-1)]: Done   4 tasks      | elapsed:   10.1s\n",
      "[Parallel(n_jobs=-1)]: Done   9 tasks      | elapsed:   36.7s\n",
      "[Parallel(n_jobs=-1)]: Done  14 tasks      | elapsed:  1.1min\n",
      "[Parallel(n_jobs=-1)]: Done  21 tasks      | elapsed:  1.9min\n",
      "[Parallel(n_jobs=-1)]: Done  28 tasks      | elapsed:  2.2min\n",
      "[Parallel(n_jobs=-1)]: Done  37 tasks      | elapsed:  3.4min\n",
      "[Parallel(n_jobs=-1)]: Done  46 tasks      | elapsed:  3.9min\n",
      "[Parallel(n_jobs=-1)]: Done  57 tasks      | elapsed:  5.3min\n",
      "[Parallel(n_jobs=-1)]: Done  68 tasks      | elapsed:  6.0min\n",
      "[Parallel(n_jobs=-1)]: Done  81 tasks      | elapsed:  7.9min\n",
      "[Parallel(n_jobs=-1)]: Done  94 tasks      | elapsed:  9.2min\n",
      "[Parallel(n_jobs=-1)]: Done 100 out of 100 | elapsed: 10.0min finished\n"
     ]
    },
    {
     "name": "stdout",
     "output_type": "stream",
     "text": [
      "random_state 210\n",
      "best_score 0.8943361753958587\n",
      "best_parameter {'svc__C': 1.0, 'svc__gamma': 0.1}\n",
      "Fitting 4 folds for each of 25 candidates, totalling 100 fits\n"
     ]
    },
    {
     "name": "stderr",
     "output_type": "stream",
     "text": [
      "[Parallel(n_jobs=-1)]: Using backend LokyBackend with 2 concurrent workers.\n",
      "[Parallel(n_jobs=-1)]: Done   1 tasks      | elapsed:    4.8s\n",
      "[Parallel(n_jobs=-1)]: Done   4 tasks      | elapsed:    9.9s\n",
      "[Parallel(n_jobs=-1)]: Done   9 tasks      | elapsed:   34.5s\n",
      "[Parallel(n_jobs=-1)]: Done  14 tasks      | elapsed:  1.1min\n",
      "[Parallel(n_jobs=-1)]: Done  21 tasks      | elapsed:  1.8min\n",
      "[Parallel(n_jobs=-1)]: Done  28 tasks      | elapsed:  2.1min\n",
      "[Parallel(n_jobs=-1)]: Done  37 tasks      | elapsed:  3.3min\n",
      "[Parallel(n_jobs=-1)]: Done  46 tasks      | elapsed:  3.8min\n",
      "[Parallel(n_jobs=-1)]: Done  57 tasks      | elapsed:  5.3min\n",
      "[Parallel(n_jobs=-1)]: Done  68 tasks      | elapsed:  6.0min\n",
      "[Parallel(n_jobs=-1)]: Done  81 tasks      | elapsed:  7.9min\n",
      "[Parallel(n_jobs=-1)]: Done  94 tasks      | elapsed:  9.1min\n",
      "[Parallel(n_jobs=-1)]: Done 100 out of 100 | elapsed:  9.9min finished\n"
     ]
    },
    {
     "name": "stdout",
     "output_type": "stream",
     "text": [
      "random_state 252\n",
      "best_score 0.8934226552984166\n",
      "best_parameter {'svc__C': 10.0, 'svc__gamma': 0.01}\n",
      "Fitting 4 folds for each of 25 candidates, totalling 100 fits\n"
     ]
    },
    {
     "name": "stderr",
     "output_type": "stream",
     "text": [
      "[Parallel(n_jobs=-1)]: Using backend LokyBackend with 2 concurrent workers.\n",
      "[Parallel(n_jobs=-1)]: Done   1 tasks      | elapsed:    4.7s\n",
      "[Parallel(n_jobs=-1)]: Done   4 tasks      | elapsed:    9.5s\n",
      "[Parallel(n_jobs=-1)]: Done   9 tasks      | elapsed:   34.2s\n",
      "[Parallel(n_jobs=-1)]: Done  14 tasks      | elapsed:  1.1min\n",
      "[Parallel(n_jobs=-1)]: Done  21 tasks      | elapsed:  1.8min\n",
      "[Parallel(n_jobs=-1)]: Done  28 tasks      | elapsed:  2.1min\n",
      "[Parallel(n_jobs=-1)]: Done  37 tasks      | elapsed:  3.3min\n",
      "[Parallel(n_jobs=-1)]: Done  46 tasks      | elapsed:  3.8min\n",
      "[Parallel(n_jobs=-1)]: Done  57 tasks      | elapsed:  5.2min\n",
      "[Parallel(n_jobs=-1)]: Done  68 tasks      | elapsed:  5.9min\n",
      "[Parallel(n_jobs=-1)]: Done  81 tasks      | elapsed:  7.7min\n",
      "[Parallel(n_jobs=-1)]: Done  94 tasks      | elapsed:  9.0min\n",
      "[Parallel(n_jobs=-1)]: Done 100 out of 100 | elapsed:  9.8min finished\n"
     ]
    },
    {
     "name": "stdout",
     "output_type": "stream",
     "text": [
      "random_state 294\n",
      "best_score 0.8952496954933008\n",
      "best_parameter {'svc__C': 1.0, 'svc__gamma': 0.1}\n",
      "Fitting 4 folds for each of 25 candidates, totalling 100 fits\n"
     ]
    },
    {
     "name": "stderr",
     "output_type": "stream",
     "text": [
      "[Parallel(n_jobs=-1)]: Using backend LokyBackend with 2 concurrent workers.\n",
      "[Parallel(n_jobs=-1)]: Done   1 tasks      | elapsed:    4.8s\n",
      "[Parallel(n_jobs=-1)]: Done   4 tasks      | elapsed:    9.7s\n",
      "[Parallel(n_jobs=-1)]: Done   9 tasks      | elapsed:   34.9s\n",
      "[Parallel(n_jobs=-1)]: Done  14 tasks      | elapsed:  1.1min\n",
      "[Parallel(n_jobs=-1)]: Done  21 tasks      | elapsed:  1.8min\n",
      "[Parallel(n_jobs=-1)]: Done  28 tasks      | elapsed:  2.1min\n",
      "[Parallel(n_jobs=-1)]: Done  37 tasks      | elapsed:  3.3min\n",
      "[Parallel(n_jobs=-1)]: Done  46 tasks      | elapsed:  3.9min\n",
      "[Parallel(n_jobs=-1)]: Done  57 tasks      | elapsed:  5.3min\n",
      "[Parallel(n_jobs=-1)]: Done  68 tasks      | elapsed:  6.1min\n",
      "[Parallel(n_jobs=-1)]: Done  81 tasks      | elapsed:  7.8min\n",
      "[Parallel(n_jobs=-1)]: Done  94 tasks      | elapsed:  9.2min\n",
      "[Parallel(n_jobs=-1)]: Done 100 out of 100 | elapsed: 10.1min finished\n"
     ]
    },
    {
     "name": "stdout",
     "output_type": "stream",
     "text": [
      "random_state 336\n",
      "best_score 0.8927121396670726\n",
      "best_parameter {'svc__C': 100.0, 'svc__gamma': 0.01}\n",
      "Fitting 4 folds for each of 25 candidates, totalling 100 fits\n"
     ]
    },
    {
     "name": "stderr",
     "output_type": "stream",
     "text": [
      "[Parallel(n_jobs=-1)]: Using backend LokyBackend with 2 concurrent workers.\n",
      "[Parallel(n_jobs=-1)]: Done   1 tasks      | elapsed:    4.8s\n",
      "[Parallel(n_jobs=-1)]: Done   4 tasks      | elapsed:    9.7s\n",
      "[Parallel(n_jobs=-1)]: Done   9 tasks      | elapsed:   33.9s\n",
      "[Parallel(n_jobs=-1)]: Done  14 tasks      | elapsed:  1.1min\n",
      "[Parallel(n_jobs=-1)]: Done  21 tasks      | elapsed:  1.8min\n",
      "[Parallel(n_jobs=-1)]: Done  28 tasks      | elapsed:  2.1min\n",
      "[Parallel(n_jobs=-1)]: Done  37 tasks      | elapsed:  3.3min\n",
      "[Parallel(n_jobs=-1)]: Done  46 tasks      | elapsed:  3.8min\n",
      "[Parallel(n_jobs=-1)]: Done  57 tasks      | elapsed:  5.2min\n",
      "[Parallel(n_jobs=-1)]: Done  68 tasks      | elapsed:  6.0min\n",
      "[Parallel(n_jobs=-1)]: Done  81 tasks      | elapsed:  7.8min\n",
      "[Parallel(n_jobs=-1)]: Done  94 tasks      | elapsed:  9.0min\n",
      "[Parallel(n_jobs=-1)]: Done 100 out of 100 | elapsed:  9.8min finished\n"
     ]
    },
    {
     "name": "stdout",
     "output_type": "stream",
     "text": [
      "random_state 378\n",
      "best_score 0.890580592773041\n",
      "best_parameter {'svc__C': 1.0, 'svc__gamma': 0.1}\n",
      "Fitting 4 folds for each of 25 candidates, totalling 100 fits\n"
     ]
    },
    {
     "name": "stderr",
     "output_type": "stream",
     "text": [
      "[Parallel(n_jobs=-1)]: Using backend LokyBackend with 2 concurrent workers.\n",
      "[Parallel(n_jobs=-1)]: Done   1 tasks      | elapsed:    4.7s\n",
      "[Parallel(n_jobs=-1)]: Done   4 tasks      | elapsed:    9.6s\n",
      "[Parallel(n_jobs=-1)]: Done   9 tasks      | elapsed:   34.4s\n",
      "[Parallel(n_jobs=-1)]: Done  14 tasks      | elapsed:  1.1min\n",
      "[Parallel(n_jobs=-1)]: Done  21 tasks      | elapsed:  1.8min\n",
      "[Parallel(n_jobs=-1)]: Done  28 tasks      | elapsed:  2.1min\n",
      "[Parallel(n_jobs=-1)]: Done  37 tasks      | elapsed:  3.3min\n",
      "[Parallel(n_jobs=-1)]: Done  46 tasks      | elapsed:  3.8min\n",
      "[Parallel(n_jobs=-1)]: Done  57 tasks      | elapsed:  5.2min\n",
      "[Parallel(n_jobs=-1)]: Done  68 tasks      | elapsed:  5.9min\n",
      "[Parallel(n_jobs=-1)]: Done  81 tasks      | elapsed:  7.7min\n",
      "[Parallel(n_jobs=-1)]: Done  94 tasks      | elapsed:  8.9min\n",
      "[Parallel(n_jobs=-1)]: Done 100 out of 100 | elapsed:  9.8min finished\n"
     ]
    },
    {
     "name": "stdout",
     "output_type": "stream",
     "text": [
      "random_state 420\n",
      "best_score 0.8917986195696306\n",
      "best_parameter {'svc__C': 10.0, 'svc__gamma': 0.01}\n",
      "SVM's mean & std of accuracy is  0.8931 +/- 0.0014\n"
     ]
    }
   ],
   "source": [
    "test_scores = []\n",
    "cm_svc = {\"Detection Rate\":0, \"False Alarm Rate\":0, \"Miss Rate\":0, \"True Negative Rate\":0}\n",
    "for i in range(1,11):\n",
    "    grid, score, X_test, y_test = ML_pipeline_kfold_GridSearchCV_svc(X,y,42*i,4,cm_svc) \n",
    "    print('random_state', 42*i)\n",
    "    print('best_score', grid.best_score_)\n",
    "    print('best_parameter',grid.best_params_)\n",
    "    test_scores.append(grid.best_score_)\n",
    "print(\"SVM's mean & std of accuracy is \",np.around(np.mean(test_scores),4), '+/-', np.around(np.std(test_scores),4))"
   ]
  },
  {
   "cell_type": "code",
   "execution_count": 66,
   "metadata": {},
   "outputs": [
    {
     "data": {
      "image/png": "[encoded data removed]",
      "text/plain": [
       "<Figure size 432x432 with 1 Axes>"
      ]
     },
     "metadata": {
      "needs_background": "light"
     },
     "output_type": "display_data"
    },
    {
     "data": {
      "text/html": [
       "<div>\n",
       "<style scoped>\n",
       "    .dataframe tbody tr th:only-of-type {\n",
       "        vertical-align: middle;\n",
       "    }\n",
       "\n",
       "    .dataframe tbody tr th {\n",
       "        vertical-align: top;\n",
       "    }\n",
       "\n",
       "    .dataframe thead th {\n",
       "        text-align: right;\n",
       "    }\n",
       "</style>\n",
       "<table border=\"1\" class=\"dataframe\">\n",
       "  <thead>\n",
       "    <tr style=\"text-align: right;\">\n",
       "      <th></th>\n",
       "      <th>1</th>\n",
       "      <th>0</th>\n",
       "    </tr>\n",
       "  </thead>\n",
       "  <tbody>\n",
       "    <tr>\n",
       "      <th>1</th>\n",
       "      <td>0.474084</td>\n",
       "      <td>0.525916</td>\n",
       "    </tr>\n",
       "    <tr>\n",
       "      <th>0</th>\n",
       "      <td>0.031892</td>\n",
       "      <td>0.968108</td>\n",
       "    </tr>\n",
       "  </tbody>\n",
       "</table>\n",
       "</div>"
      ],
      "text/plain": [
       "          1         0\n",
       "1  0.474084  0.525916\n",
       "0  0.031892  0.968108"
      ]
     },
     "execution_count": 66,
     "metadata": {},
     "output_type": "execute_result"
    }
   ],
   "source": [
    "def calculate_confusion(cm, name): # function for drawing and calculating confusion matrix\n",
    "    total = sum(cm_svc.values())\n",
    "    \n",
    "    cm_df = pd.DataFrame([[cm[\"Detection Rate\"]/(cm[\"Detection Rate\"]+cm[\"Miss Rate\"]),cm[\"Miss Rate\"]/(cm[\"Detection Rate\"]+cm[\"Miss Rate\"])],\n",
    "                          [cm[\"False Alarm Rate\"]/(cm[\"False Alarm Rate\"]+cm[\"True Negative Rate\"]), cm[\"True Negative Rate\"]/(cm[\"False Alarm Rate\"]+cm[\"True Negative Rate\"])]],\n",
    "                         index=[1, 0], columns = [1, 0])\n",
    "    \n",
    "    plt.figure(figsize = (6,6))\n",
    "    plt.title(f\"Confusion Matrix {name}\")\n",
    "    sns.heatmap(cm_df, annot=True, fmt='g', cbar=False, \n",
    "               annot_kws={\"size\": 16}, cmap=\"Reds\")\n",
    "    plt.xlabel(\"Predicted Label\")\n",
    "    plt.ylabel(\"True Label\")\n",
    "    plt.savefig('../figures/Confusion Matrix {name}.png',dpi=100)\n",
    "    plt.show()\n",
    "    return cm_df\n",
    "calculate_confusion(cm_svc, 'SVC')"
   ]
  },
  {
   "cell_type": "markdown",
   "metadata": {},
   "source": [
    "### Random Forest"
   ]
  },
  {
   "cell_type": "code",
   "execution_count": 19,
   "metadata": {},
   "outputs": [],
   "source": [
    "def ML_pipeline_kfold_GridSearchCV_rf(X,y,random_state,n_folds):\n",
    "    # create a test set\n",
    "    X_other, X_test, y_other, y_test = train_test_split(X, y, test_size=0.2, random_state = random_state, stratify=y)\n",
    "    # splitter for _other\n",
    "    kf = StratifiedKFold(n_splits=n_folds,shuffle=True,random_state=random_state)\n",
    "    # create the pipeline: preprocessor + supervised ML method\n",
    "    cat_ftrs = ['OperatingSystems','Browser','Region','TrafficType','VisitorType','Weekend']\n",
    "    cont_ftrs = ['Administrative', 'Administrative_Duration', 'Informational','Informational_Duration', 'ProductRelated', \n",
    "             'ProductRelated_Duration','PageValues']\n",
    "    ordinal_ftrs = ['Month','SpecialDay']\n",
    "    ordinal_cats = [['Feb', 'Mar', 'May', 'June','Jul','Aug','Sep','Oct','Nov','Dec'],['0.0','0.2','0.4', '0.6','0.8', '1.0']]\n",
    "    # one-hot encoder\n",
    "    categorical_transformer = Pipeline(steps=[\n",
    "        ('onehot', OneHotEncoder(sparse=False,handle_unknown='ignore'))])\n",
    "    # standard scaler\n",
    "    numeric_transformer = Pipeline(steps=[\n",
    "        ('scaler', StandardScaler())])\n",
    "\n",
    "    # ordinal scalar\n",
    "    ordinal_transformer = Pipeline(steps=[\n",
    "    ('ordinal', OrdinalEncoder(categories = ordinal_cats))])\n",
    "    \n",
    "    # Final Pipeline\n",
    "    preprocessor = ColumnTransformer(\n",
    "        transformers=[\n",
    "            ('num', numeric_transformer, cont_ftrs),\n",
    "            ('cat', categorical_transformer, cat_ftrs),\n",
    "            ('ordinal', ordinal_transformer, ordinal_ftrs)])\n",
    "    \n",
    "    pipe = make_pipeline(preprocessor,RandomForestClassifier())\n",
    "    # the parameter(s) we want to tune\n",
    "    param_grid = {'randomforestclassifier__max_depth': [8, 11, 30, 50, 100],\n",
    "                  'randomforestclassifier__min_samples_split': [8, 16, 32, 64, 128]}\n",
    "    # prepare gridsearch\n",
    "    grid = GridSearchCV(pipe, param_grid=param_grid,cv=kf, scoring = make_scorer(accuracy_score), return_train_score = True, iid=True , n_jobs=-1,verbose=10)\n",
    "    # do kfold CV on _other\n",
    "    grid.fit(X_other, y_other)\n",
    "#     y_pred = grid.predict(X_test)\n",
    "#     fpr, tpr, threshold = roc_curve(y_test, grid.predict_proba(X_test)[:,1])\n",
    "    return grid, grid.score(X_test, y_test), X_test, y_test"
   ]
  },
  {
   "cell_type": "code",
   "execution_count": 20,
   "metadata": {},
   "outputs": [
    {
     "name": "stdout",
     "output_type": "stream",
     "text": [
      "Fitting 4 folds for each of 25 candidates, totalling 100 fits\n"
     ]
    },
    {
     "name": "stderr",
     "output_type": "stream",
     "text": [
      "[Parallel(n_jobs=-1)]: Using backend LokyBackend with 2 concurrent workers.\n",
      "[Parallel(n_jobs=-1)]: Done   1 tasks      | elapsed:    0.1s\n",
      "[Parallel(n_jobs=-1)]: Batch computation too fast (0.1332s.) Setting batch_size=2.\n",
      "[Parallel(n_jobs=-1)]: Done   4 tasks      | elapsed:    0.3s\n",
      "[Parallel(n_jobs=-1)]: Done  14 tasks      | elapsed:    0.9s\n",
      "[Parallel(n_jobs=-1)]: Done  24 tasks      | elapsed:    1.4s\n",
      "[Parallel(n_jobs=-1)]: Done  38 tasks      | elapsed:    2.3s\n",
      "[Parallel(n_jobs=-1)]: Done  52 tasks      | elapsed:    3.1s\n",
      "[Parallel(n_jobs=-1)]: Done  70 tasks      | elapsed:    4.3s\n",
      "[Parallel(n_jobs=-1)]: Done  88 tasks      | elapsed:    5.4s\n",
      "[Parallel(n_jobs=-1)]: Done 100 out of 100 | elapsed:    6.1s finished\n",
      "/opt/conda/lib/python3.7/site-packages/sklearn/ensemble/forest.py:245: FutureWarning: The default value of n_estimators will change from 10 in version 0.20 to 100 in 0.22.\n",
      "  \"10 in version 0.20 to 100 in 0.22.\", FutureWarning)\n",
      "[Parallel(n_jobs=-1)]: Using backend LokyBackend with 2 concurrent workers.\n"
     ]
    },
    {
     "name": "stdout",
     "output_type": "stream",
     "text": [
      "random_state 42\n",
      "best_score 0.8943361753958587\n",
      "best_parameter {'randomforestclassifier__max_depth': 30, 'randomforestclassifier__min_samples_split': 16}\n",
      "Fitting 4 folds for each of 25 candidates, totalling 100 fits\n"
     ]
    },
    {
     "name": "stderr",
     "output_type": "stream",
     "text": [
      "[Parallel(n_jobs=-1)]: Done   1 tasks      | elapsed:    0.1s\n",
      "[Parallel(n_jobs=-1)]: Batch computation too fast (0.1164s.) Setting batch_size=2.\n",
      "[Parallel(n_jobs=-1)]: Done   4 tasks      | elapsed:    0.3s\n",
      "[Parallel(n_jobs=-1)]: Done  14 tasks      | elapsed:    0.9s\n",
      "[Parallel(n_jobs=-1)]: Done  24 tasks      | elapsed:    1.4s\n",
      "[Parallel(n_jobs=-1)]: Done  38 tasks      | elapsed:    2.3s\n",
      "[Parallel(n_jobs=-1)]: Done  52 tasks      | elapsed:    3.2s\n",
      "[Parallel(n_jobs=-1)]: Done  70 tasks      | elapsed:    4.4s\n",
      "[Parallel(n_jobs=-1)]: Done  88 tasks      | elapsed:    5.6s\n",
      "[Parallel(n_jobs=-1)]: Done 100 out of 100 | elapsed:    6.3s finished\n",
      "/opt/conda/lib/python3.7/site-packages/sklearn/ensemble/forest.py:245: FutureWarning: The default value of n_estimators will change from 10 in version 0.20 to 100 in 0.22.\n",
      "  \"10 in version 0.20 to 100 in 0.22.\", FutureWarning)\n",
      "[Parallel(n_jobs=-1)]: Using backend LokyBackend with 2 concurrent workers.\n"
     ]
    },
    {
     "name": "stdout",
     "output_type": "stream",
     "text": [
      "random_state 84\n",
      "best_score 0.8941331709297604\n",
      "best_parameter {'randomforestclassifier__max_depth': 50, 'randomforestclassifier__min_samples_split': 32}\n",
      "Fitting 4 folds for each of 25 candidates, totalling 100 fits\n"
     ]
    },
    {
     "name": "stderr",
     "output_type": "stream",
     "text": [
      "[Parallel(n_jobs=-1)]: Done   1 tasks      | elapsed:    0.1s\n",
      "[Parallel(n_jobs=-1)]: Batch computation too fast (0.1164s.) Setting batch_size=2.\n",
      "[Parallel(n_jobs=-1)]: Done   4 tasks      | elapsed:    0.3s\n",
      "[Parallel(n_jobs=-1)]: Done  14 tasks      | elapsed:    0.9s\n",
      "[Parallel(n_jobs=-1)]: Done  24 tasks      | elapsed:    1.4s\n",
      "[Parallel(n_jobs=-1)]: Done  38 tasks      | elapsed:    2.3s\n",
      "[Parallel(n_jobs=-1)]: Done  52 tasks      | elapsed:    3.1s\n",
      "[Parallel(n_jobs=-1)]: Done  70 tasks      | elapsed:    4.4s\n",
      "[Parallel(n_jobs=-1)]: Done  88 tasks      | elapsed:    5.4s\n",
      "[Parallel(n_jobs=-1)]: Done 100 out of 100 | elapsed:    6.1s finished\n",
      "/opt/conda/lib/python3.7/site-packages/sklearn/ensemble/forest.py:245: FutureWarning: The default value of n_estimators will change from 10 in version 0.20 to 100 in 0.22.\n",
      "  \"10 in version 0.20 to 100 in 0.22.\", FutureWarning)\n",
      "[Parallel(n_jobs=-1)]: Using backend LokyBackend with 2 concurrent workers.\n"
     ]
    },
    {
     "name": "stdout",
     "output_type": "stream",
     "text": [
      "random_state 126\n",
      "best_score 0.8958587088915956\n",
      "best_parameter {'randomforestclassifier__max_depth': 30, 'randomforestclassifier__min_samples_split': 32}\n",
      "Fitting 4 folds for each of 25 candidates, totalling 100 fits\n"
     ]
    },
    {
     "name": "stderr",
     "output_type": "stream",
     "text": [
      "[Parallel(n_jobs=-1)]: Done   1 tasks      | elapsed:    0.1s\n",
      "[Parallel(n_jobs=-1)]: Batch computation too fast (0.1259s.) Setting batch_size=2.\n",
      "[Parallel(n_jobs=-1)]: Done   4 tasks      | elapsed:    0.3s\n",
      "[Parallel(n_jobs=-1)]: Done  14 tasks      | elapsed:    0.9s\n",
      "[Parallel(n_jobs=-1)]: Done  24 tasks      | elapsed:    1.4s\n",
      "[Parallel(n_jobs=-1)]: Done  38 tasks      | elapsed:    2.3s\n",
      "[Parallel(n_jobs=-1)]: Done  52 tasks      | elapsed:    3.1s\n",
      "[Parallel(n_jobs=-1)]: Done  70 tasks      | elapsed:    4.4s\n",
      "[Parallel(n_jobs=-1)]: Done  88 tasks      | elapsed:    5.4s\n",
      "[Parallel(n_jobs=-1)]: Done 100 out of 100 | elapsed:    6.1s finished\n",
      "/opt/conda/lib/python3.7/site-packages/sklearn/ensemble/forest.py:245: FutureWarning: The default value of n_estimators will change from 10 in version 0.20 to 100 in 0.22.\n",
      "  \"10 in version 0.20 to 100 in 0.22.\", FutureWarning)\n",
      "[Parallel(n_jobs=-1)]: Using backend LokyBackend with 2 concurrent workers.\n"
     ]
    },
    {
     "name": "stdout",
     "output_type": "stream",
     "text": [
      "random_state 168\n",
      "best_score 0.8927121396670726\n",
      "best_parameter {'randomforestclassifier__max_depth': 50, 'randomforestclassifier__min_samples_split': 32}\n",
      "Fitting 4 folds for each of 25 candidates, totalling 100 fits\n"
     ]
    },
    {
     "name": "stderr",
     "output_type": "stream",
     "text": [
      "[Parallel(n_jobs=-1)]: Done   1 tasks      | elapsed:    0.1s\n",
      "[Parallel(n_jobs=-1)]: Batch computation too fast (0.1276s.) Setting batch_size=2.\n",
      "[Parallel(n_jobs=-1)]: Done   4 tasks      | elapsed:    0.3s\n",
      "[Parallel(n_jobs=-1)]: Done  14 tasks      | elapsed:    0.9s\n",
      "[Parallel(n_jobs=-1)]: Done  24 tasks      | elapsed:    1.4s\n",
      "[Parallel(n_jobs=-1)]: Done  38 tasks      | elapsed:    2.3s\n",
      "[Parallel(n_jobs=-1)]: Done  52 tasks      | elapsed:    3.1s\n",
      "[Parallel(n_jobs=-1)]: Done  70 tasks      | elapsed:    4.3s\n",
      "[Parallel(n_jobs=-1)]: Done  88 tasks      | elapsed:    5.5s\n",
      "[Parallel(n_jobs=-1)]: Done 100 out of 100 | elapsed:    6.2s finished\n",
      "/opt/conda/lib/python3.7/site-packages/sklearn/ensemble/forest.py:245: FutureWarning: The default value of n_estimators will change from 10 in version 0.20 to 100 in 0.22.\n",
      "  \"10 in version 0.20 to 100 in 0.22.\", FutureWarning)\n",
      "[Parallel(n_jobs=-1)]: Using backend LokyBackend with 2 concurrent workers.\n"
     ]
    },
    {
     "name": "stdout",
     "output_type": "stream",
     "text": [
      "random_state 210\n",
      "best_score 0.8925091352009744\n",
      "best_parameter {'randomforestclassifier__max_depth': 100, 'randomforestclassifier__min_samples_split': 64}\n",
      "Fitting 4 folds for each of 25 candidates, totalling 100 fits\n"
     ]
    },
    {
     "name": "stderr",
     "output_type": "stream",
     "text": [
      "[Parallel(n_jobs=-1)]: Done   1 tasks      | elapsed:    0.1s\n",
      "[Parallel(n_jobs=-1)]: Batch computation too fast (0.1123s.) Setting batch_size=2.\n",
      "[Parallel(n_jobs=-1)]: Done   4 tasks      | elapsed:    0.2s\n",
      "[Parallel(n_jobs=-1)]: Done  14 tasks      | elapsed:    0.9s\n",
      "[Parallel(n_jobs=-1)]: Done  24 tasks      | elapsed:    1.4s\n",
      "[Parallel(n_jobs=-1)]: Done  38 tasks      | elapsed:    2.3s\n",
      "[Parallel(n_jobs=-1)]: Done  52 tasks      | elapsed:    3.1s\n",
      "[Parallel(n_jobs=-1)]: Done  70 tasks      | elapsed:    4.3s\n",
      "[Parallel(n_jobs=-1)]: Done  88 tasks      | elapsed:    5.4s\n",
      "[Parallel(n_jobs=-1)]: Done 100 out of 100 | elapsed:    6.2s finished\n",
      "/opt/conda/lib/python3.7/site-packages/sklearn/ensemble/forest.py:245: FutureWarning: The default value of n_estimators will change from 10 in version 0.20 to 100 in 0.22.\n",
      "  \"10 in version 0.20 to 100 in 0.22.\", FutureWarning)\n",
      "[Parallel(n_jobs=-1)]: Using backend LokyBackend with 2 concurrent workers.\n"
     ]
    },
    {
     "name": "stdout",
     "output_type": "stream",
     "text": [
      "random_state 252\n",
      "best_score 0.8928136419001218\n",
      "best_parameter {'randomforestclassifier__max_depth': 50, 'randomforestclassifier__min_samples_split': 16}\n",
      "Fitting 4 folds for each of 25 candidates, totalling 100 fits\n"
     ]
    },
    {
     "name": "stderr",
     "output_type": "stream",
     "text": [
      "[Parallel(n_jobs=-1)]: Done   1 tasks      | elapsed:    0.1s\n",
      "[Parallel(n_jobs=-1)]: Batch computation too fast (0.1209s.) Setting batch_size=2.\n",
      "[Parallel(n_jobs=-1)]: Done   4 tasks      | elapsed:    0.3s\n",
      "[Parallel(n_jobs=-1)]: Done  14 tasks      | elapsed:    0.9s\n",
      "[Parallel(n_jobs=-1)]: Done  24 tasks      | elapsed:    1.4s\n",
      "[Parallel(n_jobs=-1)]: Done  38 tasks      | elapsed:    2.3s\n",
      "[Parallel(n_jobs=-1)]: Done  52 tasks      | elapsed:    3.1s\n",
      "[Parallel(n_jobs=-1)]: Done  70 tasks      | elapsed:    4.3s\n",
      "[Parallel(n_jobs=-1)]: Done  88 tasks      | elapsed:    5.4s\n",
      "[Parallel(n_jobs=-1)]: Done 100 out of 100 | elapsed:    6.1s finished\n",
      "/opt/conda/lib/python3.7/site-packages/sklearn/ensemble/forest.py:245: FutureWarning: The default value of n_estimators will change from 10 in version 0.20 to 100 in 0.22.\n",
      "  \"10 in version 0.20 to 100 in 0.22.\", FutureWarning)\n",
      "[Parallel(n_jobs=-1)]: Using backend LokyBackend with 2 concurrent workers.\n"
     ]
    },
    {
     "name": "stdout",
     "output_type": "stream",
     "text": [
      "random_state 294\n",
      "best_score 0.8920016240357288\n",
      "best_parameter {'randomforestclassifier__max_depth': 100, 'randomforestclassifier__min_samples_split': 32}\n",
      "Fitting 4 folds for each of 25 candidates, totalling 100 fits\n"
     ]
    },
    {
     "name": "stderr",
     "output_type": "stream",
     "text": [
      "[Parallel(n_jobs=-1)]: Done   1 tasks      | elapsed:    0.1s\n",
      "[Parallel(n_jobs=-1)]: Batch computation too fast (0.1239s.) Setting batch_size=2.\n",
      "[Parallel(n_jobs=-1)]: Done   4 tasks      | elapsed:    0.3s\n",
      "[Parallel(n_jobs=-1)]: Done  14 tasks      | elapsed:    0.9s\n",
      "[Parallel(n_jobs=-1)]: Done  24 tasks      | elapsed:    1.4s\n",
      "[Parallel(n_jobs=-1)]: Done  38 tasks      | elapsed:    2.3s\n",
      "[Parallel(n_jobs=-1)]: Done  52 tasks      | elapsed:    3.2s\n",
      "[Parallel(n_jobs=-1)]: Done  70 tasks      | elapsed:    4.5s\n",
      "[Parallel(n_jobs=-1)]: Done  88 tasks      | elapsed:    5.6s\n",
      "[Parallel(n_jobs=-1)]: Done 100 out of 100 | elapsed:    6.3s finished\n",
      "/opt/conda/lib/python3.7/site-packages/sklearn/ensemble/forest.py:245: FutureWarning: The default value of n_estimators will change from 10 in version 0.20 to 100 in 0.22.\n",
      "  \"10 in version 0.20 to 100 in 0.22.\", FutureWarning)\n",
      "[Parallel(n_jobs=-1)]: Using backend LokyBackend with 2 concurrent workers.\n"
     ]
    },
    {
     "name": "stdout",
     "output_type": "stream",
     "text": [
      "random_state 336\n",
      "best_score 0.891392610637434\n",
      "best_parameter {'randomforestclassifier__max_depth': 30, 'randomforestclassifier__min_samples_split': 8}\n",
      "Fitting 4 folds for each of 25 candidates, totalling 100 fits\n"
     ]
    },
    {
     "name": "stderr",
     "output_type": "stream",
     "text": [
      "[Parallel(n_jobs=-1)]: Done   1 tasks      | elapsed:    0.1s\n",
      "[Parallel(n_jobs=-1)]: Batch computation too fast (0.1106s.) Setting batch_size=2.\n",
      "[Parallel(n_jobs=-1)]: Done   4 tasks      | elapsed:    0.2s\n",
      "[Parallel(n_jobs=-1)]: Done  14 tasks      | elapsed:    0.9s\n",
      "[Parallel(n_jobs=-1)]: Done  24 tasks      | elapsed:    1.3s\n",
      "[Parallel(n_jobs=-1)]: Done  38 tasks      | elapsed:    2.3s\n",
      "[Parallel(n_jobs=-1)]: Done  52 tasks      | elapsed:    3.1s\n",
      "[Parallel(n_jobs=-1)]: Done  70 tasks      | elapsed:    4.4s\n",
      "[Parallel(n_jobs=-1)]: Done  88 tasks      | elapsed:    5.4s\n",
      "[Parallel(n_jobs=-1)]: Done 100 out of 100 | elapsed:    6.1s finished\n",
      "/opt/conda/lib/python3.7/site-packages/sklearn/ensemble/forest.py:245: FutureWarning: The default value of n_estimators will change from 10 in version 0.20 to 100 in 0.22.\n",
      "  \"10 in version 0.20 to 100 in 0.22.\", FutureWarning)\n",
      "[Parallel(n_jobs=-1)]: Using backend LokyBackend with 2 concurrent workers.\n"
     ]
    },
    {
     "name": "stdout",
     "output_type": "stream",
     "text": [
      "random_state 378\n",
      "best_score 0.8910881039382866\n",
      "best_parameter {'randomforestclassifier__max_depth': 30, 'randomforestclassifier__min_samples_split': 32}\n",
      "Fitting 4 folds for each of 25 candidates, totalling 100 fits\n"
     ]
    },
    {
     "name": "stderr",
     "output_type": "stream",
     "text": [
      "[Parallel(n_jobs=-1)]: Done   1 tasks      | elapsed:    0.1s\n",
      "[Parallel(n_jobs=-1)]: Batch computation too fast (0.1077s.) Setting batch_size=2.\n",
      "[Parallel(n_jobs=-1)]: Done   4 tasks      | elapsed:    0.2s\n",
      "[Parallel(n_jobs=-1)]: Done  14 tasks      | elapsed:    0.9s\n",
      "[Parallel(n_jobs=-1)]: Done  24 tasks      | elapsed:    1.4s\n",
      "[Parallel(n_jobs=-1)]: Done  38 tasks      | elapsed:    2.3s\n",
      "[Parallel(n_jobs=-1)]: Done  52 tasks      | elapsed:    3.2s\n",
      "[Parallel(n_jobs=-1)]: Done  70 tasks      | elapsed:    4.4s\n",
      "[Parallel(n_jobs=-1)]: Done  88 tasks      | elapsed:    5.5s\n"
     ]
    },
    {
     "name": "stdout",
     "output_type": "stream",
     "text": [
      "random_state 420\n",
      "best_score 0.8940316686967114\n",
      "best_parameter {'randomforestclassifier__max_depth': 50, 'randomforestclassifier__min_samples_split': 64}\n",
      "Random Forest's mean & std of accuracy is  0.8931 +/- 0.0014\n"
     ]
    },
    {
     "name": "stderr",
     "output_type": "stream",
     "text": [
      "[Parallel(n_jobs=-1)]: Done 100 out of 100 | elapsed:    6.2s finished\n",
      "/opt/conda/lib/python3.7/site-packages/sklearn/ensemble/forest.py:245: FutureWarning: The default value of n_estimators will change from 10 in version 0.20 to 100 in 0.22.\n",
      "  \"10 in version 0.20 to 100 in 0.22.\", FutureWarning)\n"
     ]
    }
   ],
   "source": [
    "test_scores = []\n",
    "for i in range(1,11):\n",
    "    grid, score, X_test, y_test = ML_pipeline_kfold_GridSearchCV_rf(X,y,42*i,4) \n",
    "    print('random_state', 42*i)\n",
    "    print('best_score', grid.best_score_)\n",
    "    print('best_parameter',grid.best_params_)\n",
    "    test_scores.append(grid.best_score_)\n",
    "print(\"Random Forest's mean & std of accuracy is \",np.around(np.mean(test_scores),4), '+/-', np.around(np.std(test_scores),4))"
   ]
  },
  {
   "cell_type": "code",
   "execution_count": null,
   "metadata": {},
   "outputs": [],
   "source": []
  },
  {
   "cell_type": "code",
   "execution_count": null,
   "metadata": {},
   "outputs": [],
   "source": [
    "df = pd.read_csv('data/true_labels_pred_probs.csv')\n",
    "print(df.columns)\n",
    "y_true = df['y_true'].values\n",
    "pred_proba = df['pred_prob_class1'].values\n",
    "\n",
    "y_pred = np.zeros(len(pred_proba),dtype=int)\n",
    "y_pred[pred_proba < 0.5] = 0\n",
    "y_pred[pred_proba >= 0.5] = 1\n",
    "\n",
    "plot_confusion_matrix(y_true,y_pred,classes=['class 0', 'class 1'])\n",
    "plt.show()"
   ]
  },
  {
   "cell_type": "code",
   "execution_count": null,
   "metadata": {},
   "outputs": [],
   "source": [
    "# best_score 0.6040753895971125\n",
    "# best_parameter {'randomforestclassifier__max_depth': 30, 'randomforestclassifier__min_samples_split': 20}"
   ]
  },
  {
   "cell_type": "markdown",
   "metadata": {},
   "source": [
    "### Logistic Regression"
   ]
  },
  {
   "cell_type": "code",
   "execution_count": 27,
   "metadata": {},
   "outputs": [
    {
     "data": {
      "text/plain": [
       "dict_keys(['C', 'class_weight', 'dual', 'fit_intercept', 'intercept_scaling', 'l1_ratio', 'max_iter', 'multi_class', 'n_jobs', 'penalty', 'random_state', 'solver', 'tol', 'verbose', 'warm_start'])"
      ]
     },
     "execution_count": 27,
     "metadata": {},
     "output_type": "execute_result"
    }
   ],
   "source": [
    "LogisticRegression.get_params(LogisticRegression).keys()"
   ]
  },
  {
   "cell_type": "code",
   "execution_count": 35,
   "metadata": {},
   "outputs": [],
   "source": [
    "def ML_pipeline_kfold_GridSearchCV_logistic(X,y,random_state,n_folds):\n",
    "    # create a test set\n",
    "    X_other, X_test, y_other, y_test = train_test_split(X, y, test_size=0.2, random_state = random_state, stratify=y)\n",
    "    # splitter for _other\n",
    "    kf = StratifiedKFold(n_splits=n_folds,shuffle=True,random_state=random_state)\n",
    "    # create the pipeline: preprocessor + supervised ML method\n",
    "    cat_ftrs = ['OperatingSystems','Browser','Region','TrafficType','VisitorType','Weekend']\n",
    "    cont_ftrs = ['Administrative', 'Administrative_Duration', 'Informational','Informational_Duration', 'ProductRelated', \n",
    "             'ProductRelated_Duration','PageValues']\n",
    "    ordinal_ftrs = ['Month','SpecialDay']\n",
    "    ordinal_cats = [['Feb', 'Mar', 'May', 'June','Jul','Aug','Sep','Oct','Nov','Dec'],['0.0','0.2','0.4', '0.6','0.8', '1.0']]\n",
    "    # one-hot encoder\n",
    "    categorical_transformer = Pipeline(steps=[\n",
    "        ('onehot', OneHotEncoder(sparse=False,handle_unknown='ignore'))])\n",
    "    # standard scaler\n",
    "    numeric_transformer = Pipeline(steps=[\n",
    "        ('scaler', StandardScaler())])\n",
    "\n",
    "    # ordinal scalar\n",
    "    ordinal_transformer = Pipeline(steps=[\n",
    "    ('ordinal', OrdinalEncoder(categories = ordinal_cats))])\n",
    "    \n",
    "    # Final Pipeline\n",
    "    preprocessor = ColumnTransformer(\n",
    "        transformers=[\n",
    "            ('num', numeric_transformer, cont_ftrs),\n",
    "            ('cat', categorical_transformer, cat_ftrs),\n",
    "            ('ordinal', ordinal_transformer, ordinal_ftrs)])\n",
    "    \n",
    "    pipe = make_pipeline(preprocessor,LogisticRegression())\n",
    "    # the parameter(s) we want to tune\n",
    "    param_grid = {'logisticregression__penalty': ['l1', 'l2'],\n",
    "                  'logisticregression__C': np.logspace(0, 4, 10)}\n",
    "    # prepare gridsearch\n",
    "    grid = GridSearchCV(pipe, param_grid=param_grid,cv=kf, scoring = make_scorer(accuracy_score), return_train_score = True, iid=True , n_jobs=-1,verbose=10)\n",
    "    # do kfold CV on _other\n",
    "    grid.fit(X_other, y_other)\n",
    "    return grid, grid.score(X_test, y_test), X_test, y_test"
   ]
  },
  {
   "cell_type": "code",
   "execution_count": 73,
   "metadata": {},
   "outputs": [
    {
     "data": {
      "text/plain": [
       "array([1.00000000e+00, 2.78255940e+00, 7.74263683e+00, 2.15443469e+01,\n",
       "       5.99484250e+01, 1.66810054e+02, 4.64158883e+02, 1.29154967e+03,\n",
       "       3.59381366e+03, 1.00000000e+04])"
      ]
     },
     "execution_count": 73,
     "metadata": {},
     "output_type": "execute_result"
    }
   ],
   "source": [
    "np.logspace(0, 4, 10)"
   ]
  },
  {
   "cell_type": "code",
   "execution_count": 36,
   "metadata": {},
   "outputs": [
    {
     "name": "stdout",
     "output_type": "stream",
     "text": [
      "Fitting 4 folds for each of 20 candidates, totalling 80 fits\n"
     ]
    },
    {
     "name": "stderr",
     "output_type": "stream",
     "text": [
      "[Parallel(n_jobs=-1)]: Using backend LokyBackend with 2 concurrent workers.\n",
      "[Parallel(n_jobs=-1)]: Done   1 tasks      | elapsed:    1.4s\n",
      "[Parallel(n_jobs=-1)]: Done   4 tasks      | elapsed:    2.3s\n",
      "[Parallel(n_jobs=-1)]: Done   9 tasks      | elapsed:    3.6s\n",
      "[Parallel(n_jobs=-1)]: Done  14 tasks      | elapsed:    5.0s\n",
      "[Parallel(n_jobs=-1)]: Done  21 tasks      | elapsed:    8.4s\n",
      "[Parallel(n_jobs=-1)]: Done  28 tasks      | elapsed:   10.9s\n",
      "[Parallel(n_jobs=-1)]: Done  37 tasks      | elapsed:   13.5s\n",
      "[Parallel(n_jobs=-1)]: Done  46 tasks      | elapsed:   15.5s\n",
      "[Parallel(n_jobs=-1)]: Done  57 tasks      | elapsed:   18.1s\n",
      "[Parallel(n_jobs=-1)]: Done  68 tasks      | elapsed:   20.4s\n",
      "[Parallel(n_jobs=-1)]: Done  80 out of  80 | elapsed:   23.1s finished\n",
      "/opt/conda/lib/python3.7/site-packages/sklearn/linear_model/logistic.py:432: FutureWarning: Default solver will be changed to 'lbfgs' in 0.22. Specify a solver to silence this warning.\n",
      "  FutureWarning)\n"
     ]
    },
    {
     "name": "stdout",
     "output_type": "stream",
     "text": [
      "best_score 0.8843889565570443\n",
      "best_parameter {'logisticregression__C': 2.7825594022071245, 'logisticregression__penalty': 'l2'}\n",
      "Fitting 4 folds for each of 20 candidates, totalling 80 fits\n"
     ]
    },
    {
     "name": "stderr",
     "output_type": "stream",
     "text": [
      "[Parallel(n_jobs=-1)]: Using backend LokyBackend with 2 concurrent workers.\n",
      "[Parallel(n_jobs=-1)]: Done   1 tasks      | elapsed:    0.6s\n",
      "[Parallel(n_jobs=-1)]: Done   4 tasks      | elapsed:    1.6s\n",
      "[Parallel(n_jobs=-1)]: Done   9 tasks      | elapsed:    3.3s\n",
      "[Parallel(n_jobs=-1)]: Done  14 tasks      | elapsed:    5.4s\n",
      "[Parallel(n_jobs=-1)]: Done  21 tasks      | elapsed:    8.0s\n",
      "[Parallel(n_jobs=-1)]: Done  28 tasks      | elapsed:   10.3s\n",
      "[Parallel(n_jobs=-1)]: Done  37 tasks      | elapsed:   13.1s\n",
      "[Parallel(n_jobs=-1)]: Done  46 tasks      | elapsed:   15.5s\n",
      "[Parallel(n_jobs=-1)]: Done  57 tasks      | elapsed:   18.0s\n",
      "[Parallel(n_jobs=-1)]: Done  68 tasks      | elapsed:   20.7s\n",
      "[Parallel(n_jobs=-1)]: Done  80 out of  80 | elapsed:   23.9s finished\n",
      "/opt/conda/lib/python3.7/site-packages/sklearn/linear_model/logistic.py:432: FutureWarning: Default solver will be changed to 'lbfgs' in 0.22. Specify a solver to silence this warning.\n",
      "  FutureWarning)\n"
     ]
    },
    {
     "name": "stdout",
     "output_type": "stream",
     "text": [
      "best_score 0.880125862768981\n",
      "best_parameter {'logisticregression__C': 1.0, 'logisticregression__penalty': 'l2'}\n",
      "Fitting 4 folds for each of 20 candidates, totalling 80 fits\n"
     ]
    },
    {
     "name": "stderr",
     "output_type": "stream",
     "text": [
      "[Parallel(n_jobs=-1)]: Using backend LokyBackend with 2 concurrent workers.\n",
      "[Parallel(n_jobs=-1)]: Done   1 tasks      | elapsed:    0.4s\n",
      "[Parallel(n_jobs=-1)]: Done   4 tasks      | elapsed:    1.5s\n",
      "[Parallel(n_jobs=-1)]: Done   9 tasks      | elapsed:    3.7s\n",
      "[Parallel(n_jobs=-1)]: Done  14 tasks      | elapsed:    5.8s\n",
      "[Parallel(n_jobs=-1)]: Done  21 tasks      | elapsed:    8.7s\n",
      "[Parallel(n_jobs=-1)]: Done  28 tasks      | elapsed:   12.1s\n",
      "[Parallel(n_jobs=-1)]: Done  37 tasks      | elapsed:   15.0s\n",
      "[Parallel(n_jobs=-1)]: Done  46 tasks      | elapsed:   17.1s\n",
      "[Parallel(n_jobs=-1)]: Done  57 tasks      | elapsed:   20.0s\n",
      "[Parallel(n_jobs=-1)]: Done  68 tasks      | elapsed:   22.7s\n",
      "[Parallel(n_jobs=-1)]: Done  80 out of  80 | elapsed:   25.8s finished\n",
      "/opt/conda/lib/python3.7/site-packages/sklearn/linear_model/logistic.py:432: FutureWarning: Default solver will be changed to 'lbfgs' in 0.22. Specify a solver to silence this warning.\n",
      "  FutureWarning)\n"
     ]
    },
    {
     "name": "stdout",
     "output_type": "stream",
     "text": [
      "best_score 0.8811408850994722\n",
      "best_parameter {'logisticregression__C': 7.742636826811269, 'logisticregression__penalty': 'l2'}\n",
      "Fitting 4 folds for each of 20 candidates, totalling 80 fits\n"
     ]
    },
    {
     "name": "stderr",
     "output_type": "stream",
     "text": [
      "[Parallel(n_jobs=-1)]: Using backend LokyBackend with 2 concurrent workers.\n",
      "[Parallel(n_jobs=-1)]: Done   1 tasks      | elapsed:    0.5s\n",
      "[Parallel(n_jobs=-1)]: Done   4 tasks      | elapsed:    1.5s\n",
      "[Parallel(n_jobs=-1)]: Done   9 tasks      | elapsed:    2.4s\n",
      "[Parallel(n_jobs=-1)]: Done  14 tasks      | elapsed:    4.4s\n",
      "[Parallel(n_jobs=-1)]: Done  21 tasks      | elapsed:    7.4s\n",
      "[Parallel(n_jobs=-1)]: Done  28 tasks      | elapsed:   10.1s\n",
      "[Parallel(n_jobs=-1)]: Done  37 tasks      | elapsed:   13.4s\n",
      "[Parallel(n_jobs=-1)]: Done  46 tasks      | elapsed:   15.6s\n",
      "[Parallel(n_jobs=-1)]: Done  57 tasks      | elapsed:   18.3s\n",
      "[Parallel(n_jobs=-1)]: Done  68 tasks      | elapsed:   20.5s\n",
      "[Parallel(n_jobs=-1)]: Done  80 out of  80 | elapsed:   23.3s finished\n",
      "/opt/conda/lib/python3.7/site-packages/sklearn/linear_model/logistic.py:432: FutureWarning: Default solver will be changed to 'lbfgs' in 0.22. Specify a solver to silence this warning.\n",
      "  FutureWarning)\n"
     ]
    },
    {
     "name": "stdout",
     "output_type": "stream",
     "text": [
      "best_score 0.8821559074299634\n",
      "best_parameter {'logisticregression__C': 2.7825594022071245, 'logisticregression__penalty': 'l1'}\n",
      "Fitting 4 folds for each of 20 candidates, totalling 80 fits\n"
     ]
    },
    {
     "name": "stderr",
     "output_type": "stream",
     "text": [
      "[Parallel(n_jobs=-1)]: Using backend LokyBackend with 2 concurrent workers.\n",
      "[Parallel(n_jobs=-1)]: Done   1 tasks      | elapsed:    0.5s\n",
      "[Parallel(n_jobs=-1)]: Done   4 tasks      | elapsed:    1.4s\n",
      "[Parallel(n_jobs=-1)]: Done   9 tasks      | elapsed:    2.9s\n",
      "[Parallel(n_jobs=-1)]: Done  14 tasks      | elapsed:    4.8s\n",
      "[Parallel(n_jobs=-1)]: Done  21 tasks      | elapsed:    7.0s\n",
      "[Parallel(n_jobs=-1)]: Done  28 tasks      | elapsed:    9.5s\n",
      "[Parallel(n_jobs=-1)]: Done  37 tasks      | elapsed:   12.1s\n",
      "[Parallel(n_jobs=-1)]: Done  46 tasks      | elapsed:   13.8s\n",
      "[Parallel(n_jobs=-1)]: Done  57 tasks      | elapsed:   16.2s\n",
      "[Parallel(n_jobs=-1)]: Done  68 tasks      | elapsed:   18.7s\n",
      "[Parallel(n_jobs=-1)]: Done  80 out of  80 | elapsed:   21.5s finished\n",
      "/opt/conda/lib/python3.7/site-packages/sklearn/linear_model/logistic.py:432: FutureWarning: Default solver will be changed to 'lbfgs' in 0.22. Specify a solver to silence this warning.\n",
      "  FutureWarning)\n"
     ]
    },
    {
     "name": "stdout",
     "output_type": "stream",
     "text": [
      "best_score 0.8813438895655704\n",
      "best_parameter {'logisticregression__C': 1.0, 'logisticregression__penalty': 'l1'}\n",
      "Fitting 4 folds for each of 20 candidates, totalling 80 fits\n"
     ]
    },
    {
     "name": "stderr",
     "output_type": "stream",
     "text": [
      "[Parallel(n_jobs=-1)]: Using backend LokyBackend with 2 concurrent workers.\n",
      "[Parallel(n_jobs=-1)]: Done   1 tasks      | elapsed:    0.6s\n",
      "[Parallel(n_jobs=-1)]: Done   4 tasks      | elapsed:    1.7s\n",
      "[Parallel(n_jobs=-1)]: Done   9 tasks      | elapsed:    3.2s\n",
      "[Parallel(n_jobs=-1)]: Done  14 tasks      | elapsed:    4.9s\n",
      "[Parallel(n_jobs=-1)]: Done  21 tasks      | elapsed:    8.1s\n",
      "[Parallel(n_jobs=-1)]: Done  28 tasks      | elapsed:   10.6s\n",
      "[Parallel(n_jobs=-1)]: Done  37 tasks      | elapsed:   13.5s\n",
      "[Parallel(n_jobs=-1)]: Done  46 tasks      | elapsed:   15.6s\n",
      "[Parallel(n_jobs=-1)]: Done  57 tasks      | elapsed:   18.0s\n",
      "[Parallel(n_jobs=-1)]: Done  68 tasks      | elapsed:   20.6s\n",
      "[Parallel(n_jobs=-1)]: Done  80 out of  80 | elapsed:   23.5s finished\n",
      "/opt/conda/lib/python3.7/site-packages/sklearn/linear_model/logistic.py:432: FutureWarning: Default solver will be changed to 'lbfgs' in 0.22. Specify a solver to silence this warning.\n",
      "  FutureWarning)\n"
     ]
    },
    {
     "name": "stdout",
     "output_type": "stream",
     "text": [
      "best_score 0.8795168493706862\n",
      "best_parameter {'logisticregression__C': 1.0, 'logisticregression__penalty': 'l1'}\n",
      "Fitting 4 folds for each of 20 candidates, totalling 80 fits\n"
     ]
    },
    {
     "name": "stderr",
     "output_type": "stream",
     "text": [
      "[Parallel(n_jobs=-1)]: Using backend LokyBackend with 2 concurrent workers.\n",
      "[Parallel(n_jobs=-1)]: Done   1 tasks      | elapsed:    0.5s\n",
      "[Parallel(n_jobs=-1)]: Done   4 tasks      | elapsed:    1.6s\n",
      "[Parallel(n_jobs=-1)]: Done   9 tasks      | elapsed:    3.6s\n",
      "[Parallel(n_jobs=-1)]: Done  14 tasks      | elapsed:    5.9s\n",
      "[Parallel(n_jobs=-1)]: Done  21 tasks      | elapsed:    8.7s\n",
      "[Parallel(n_jobs=-1)]: Done  28 tasks      | elapsed:   11.3s\n",
      "[Parallel(n_jobs=-1)]: Done  37 tasks      | elapsed:   14.1s\n",
      "[Parallel(n_jobs=-1)]: Done  46 tasks      | elapsed:   16.0s\n",
      "[Parallel(n_jobs=-1)]: Done  57 tasks      | elapsed:   18.4s\n",
      "[Parallel(n_jobs=-1)]: Done  68 tasks      | elapsed:   21.1s\n",
      "[Parallel(n_jobs=-1)]: Done  80 out of  80 | elapsed:   24.2s finished\n",
      "/opt/conda/lib/python3.7/site-packages/sklearn/linear_model/logistic.py:432: FutureWarning: Default solver will be changed to 'lbfgs' in 0.22. Specify a solver to silence this warning.\n",
      "  FutureWarning)\n"
     ]
    },
    {
     "name": "stdout",
     "output_type": "stream",
     "text": [
      "best_score 0.8836784409257004\n",
      "best_parameter {'logisticregression__C': 2.7825594022071245, 'logisticregression__penalty': 'l1'}\n",
      "Fitting 4 folds for each of 20 candidates, totalling 80 fits\n"
     ]
    },
    {
     "name": "stderr",
     "output_type": "stream",
     "text": [
      "[Parallel(n_jobs=-1)]: Using backend LokyBackend with 2 concurrent workers.\n",
      "[Parallel(n_jobs=-1)]: Done   1 tasks      | elapsed:    0.6s\n",
      "[Parallel(n_jobs=-1)]: Done   4 tasks      | elapsed:    1.7s\n",
      "[Parallel(n_jobs=-1)]: Done   9 tasks      | elapsed:    3.3s\n",
      "[Parallel(n_jobs=-1)]: Done  14 tasks      | elapsed:    5.9s\n",
      "[Parallel(n_jobs=-1)]: Done  21 tasks      | elapsed:    9.8s\n",
      "[Parallel(n_jobs=-1)]: Done  28 tasks      | elapsed:   13.1s\n",
      "[Parallel(n_jobs=-1)]: Done  37 tasks      | elapsed:   15.8s\n",
      "[Parallel(n_jobs=-1)]: Done  46 tasks      | elapsed:   17.4s\n",
      "[Parallel(n_jobs=-1)]: Done  57 tasks      | elapsed:   19.9s\n",
      "[Parallel(n_jobs=-1)]: Done  68 tasks      | elapsed:   22.3s\n",
      "[Parallel(n_jobs=-1)]: Done  80 out of  80 | elapsed:   25.3s finished\n",
      "/opt/conda/lib/python3.7/site-packages/sklearn/linear_model/logistic.py:432: FutureWarning: Default solver will be changed to 'lbfgs' in 0.22. Specify a solver to silence this warning.\n",
      "  FutureWarning)\n"
     ]
    },
    {
     "name": "stdout",
     "output_type": "stream",
     "text": [
      "best_score 0.8811408850994722\n",
      "best_parameter {'logisticregression__C': 1.0, 'logisticregression__penalty': 'l2'}\n",
      "Fitting 4 folds for each of 20 candidates, totalling 80 fits\n"
     ]
    },
    {
     "name": "stderr",
     "output_type": "stream",
     "text": [
      "[Parallel(n_jobs=-1)]: Using backend LokyBackend with 2 concurrent workers.\n",
      "[Parallel(n_jobs=-1)]: Done   1 tasks      | elapsed:    0.6s\n",
      "[Parallel(n_jobs=-1)]: Done   4 tasks      | elapsed:    1.6s\n",
      "[Parallel(n_jobs=-1)]: Done   9 tasks      | elapsed:    3.8s\n",
      "[Parallel(n_jobs=-1)]: Done  14 tasks      | elapsed:    5.8s\n",
      "[Parallel(n_jobs=-1)]: Done  21 tasks      | elapsed:    9.2s\n",
      "[Parallel(n_jobs=-1)]: Done  28 tasks      | elapsed:   12.0s\n",
      "[Parallel(n_jobs=-1)]: Done  37 tasks      | elapsed:   14.9s\n",
      "[Parallel(n_jobs=-1)]: Done  46 tasks      | elapsed:   17.1s\n",
      "[Parallel(n_jobs=-1)]: Done  57 tasks      | elapsed:   20.1s\n",
      "[Parallel(n_jobs=-1)]: Done  68 tasks      | elapsed:   22.7s\n",
      "[Parallel(n_jobs=-1)]: Done  80 out of  80 | elapsed:   26.0s finished\n",
      "/opt/conda/lib/python3.7/site-packages/sklearn/linear_model/logistic.py:432: FutureWarning: Default solver will be changed to 'lbfgs' in 0.22. Specify a solver to silence this warning.\n",
      "  FutureWarning)\n"
     ]
    },
    {
     "name": "stdout",
     "output_type": "stream",
     "text": [
      "best_score 0.8798213560698336\n",
      "best_parameter {'logisticregression__C': 1.0, 'logisticregression__penalty': 'l1'}\n",
      "Fitting 4 folds for each of 20 candidates, totalling 80 fits\n"
     ]
    },
    {
     "name": "stderr",
     "output_type": "stream",
     "text": [
      "[Parallel(n_jobs=-1)]: Using backend LokyBackend with 2 concurrent workers.\n",
      "[Parallel(n_jobs=-1)]: Done   1 tasks      | elapsed:    0.4s\n",
      "[Parallel(n_jobs=-1)]: Done   4 tasks      | elapsed:    1.5s\n",
      "[Parallel(n_jobs=-1)]: Done   9 tasks      | elapsed:    3.3s\n",
      "[Parallel(n_jobs=-1)]: Done  14 tasks      | elapsed:    5.1s\n",
      "[Parallel(n_jobs=-1)]: Done  21 tasks      | elapsed:    8.0s\n",
      "[Parallel(n_jobs=-1)]: Done  28 tasks      | elapsed:   11.1s\n",
      "[Parallel(n_jobs=-1)]: Done  37 tasks      | elapsed:   13.7s\n",
      "[Parallel(n_jobs=-1)]: Done  46 tasks      | elapsed:   16.1s\n",
      "[Parallel(n_jobs=-1)]: Done  57 tasks      | elapsed:   19.0s\n",
      "[Parallel(n_jobs=-1)]: Done  68 tasks      | elapsed:   21.5s\n",
      "[Parallel(n_jobs=-1)]: Done  80 out of  80 | elapsed:   24.3s finished\n",
      "/opt/conda/lib/python3.7/site-packages/sklearn/linear_model/logistic.py:432: FutureWarning: Default solver will be changed to 'lbfgs' in 0.22. Specify a solver to silence this warning.\n",
      "  FutureWarning)\n"
     ]
    },
    {
     "name": "stdout",
     "output_type": "stream",
     "text": [
      "best_score 0.8821559074299634\n",
      "best_parameter {'logisticregression__C': 1.0, 'logisticregression__penalty': 'l1'}\n",
      "Logistic Regression's mean & std of accuracy is  0.8815 +/- 0.0015\n"
     ]
    }
   ],
   "source": [
    "test_scores = []\n",
    "for i in range(1, 11):\n",
    "    grid, score, X_test, y_test = ML_pipeline_kfold_GridSearchCV_logistic(X,y,42*i,4)  \n",
    "    print('best_score', grid.best_score_)\n",
    "    print('best_parameter',grid.best_params_)\n",
    "    test_scores.append(grid.best_score_)\n",
    "print(\"Logistic Regression's mean & std of accuracy is \",np.around(np.mean(test_scores),4), '+/-', np.around(np.std(test_scores),4))"
   ]
  },
  {
   "cell_type": "markdown",
   "metadata": {},
   "source": [
    "### KNNeighbors"
   ]
  },
  {
   "cell_type": "code",
   "execution_count": 21,
   "metadata": {},
   "outputs": [
    {
     "data": {
      "text/plain": [
       "dict_keys(['algorithm', 'leaf_size', 'metric', 'metric_params', 'n_jobs', 'n_neighbors', 'p', 'weights'])"
      ]
     },
     "execution_count": 21,
     "metadata": {},
     "output_type": "execute_result"
    }
   ],
   "source": [
    "from sklearn.neighbors import KNeighborsClassifier\n",
    "KNeighborsClassifier.get_params(KNeighborsClassifier).keys()"
   ]
  },
  {
   "cell_type": "code",
   "execution_count": 37,
   "metadata": {},
   "outputs": [],
   "source": [
    "def ML_pipeline_kfold_GridSearchCV_knn(X,y,random_state,n_folds):\n",
    "    # create a test set\n",
    "    X_other, X_test, y_other, y_test = train_test_split(X, y, test_size=0.2, random_state = random_state, stratify=y)\n",
    "    # splitter for _other\n",
    "    kf = StratifiedKFold(n_splits=n_folds,shuffle=True,random_state=random_state)\n",
    "    # create the pipeline: preprocessor + supervised ML method\n",
    "    cat_ftrs = ['OperatingSystems','Browser','Region','TrafficType','VisitorType','Weekend']\n",
    "    cont_ftrs = ['Administrative', 'Administrative_Duration', 'Informational','Informational_Duration', 'ProductRelated', \n",
    "             'ProductRelated_Duration','PageValues']\n",
    "    ordinal_ftrs = ['Month','SpecialDay']\n",
    "    ordinal_cats = [['Feb', 'Mar', 'May', 'June','Jul','Aug','Sep','Oct','Nov','Dec'],['0.0','0.2','0.4', '0.6','0.8', '1.0']]\n",
    "    # one-hot encoder\n",
    "    categorical_transformer = Pipeline(steps=[\n",
    "        ('onehot', OneHotEncoder(sparse=False,handle_unknown='ignore'))])\n",
    "    # standard scaler\n",
    "    numeric_transformer = Pipeline(steps=[\n",
    "        ('scaler', StandardScaler())])\n",
    "\n",
    "    # ordinal scalar\n",
    "    ordinal_transformer = Pipeline(steps=[\n",
    "    ('ordinal', OrdinalEncoder(categories = ordinal_cats))])\n",
    "    \n",
    "    # Final Pipeline\n",
    "    preprocessor = ColumnTransformer(\n",
    "        transformers=[\n",
    "            ('num', numeric_transformer, cont_ftrs),\n",
    "            ('cat', categorical_transformer, cat_ftrs),\n",
    "            ('ordinal', ordinal_transformer, ordinal_ftrs)])\n",
    "    \n",
    "    pipe = make_pipeline(preprocessor,KNeighborsClassifier())\n",
    "    # the parameter(s) we want to tune\n",
    "    param_grid = {'kneighborsclassifier__weights': ['uniform', 'distance'],\n",
    "                  'kneighborsclassifier__n_neighbors': [10,20,30,40,50,60]}\n",
    "    # prepare gridsearch\n",
    "    grid = GridSearchCV(pipe, param_grid=param_grid,cv=kf, scoring = make_scorer(accuracy_score), return_train_score = True, iid=True , n_jobs=-1,verbose=10)\n",
    "    # do kfold CV on _other\n",
    "    grid.fit(X_other, y_other)\n",
    "    return grid, grid.score(X_test, y_test), X_test, y_test"
   ]
  },
  {
   "cell_type": "code",
   "execution_count": 38,
   "metadata": {},
   "outputs": [
    {
     "name": "stdout",
     "output_type": "stream",
     "text": [
      "Fitting 4 folds for each of 12 candidates, totalling 48 fits\n"
     ]
    },
    {
     "name": "stderr",
     "output_type": "stream",
     "text": [
      "[Parallel(n_jobs=-1)]: Using backend LokyBackend with 2 concurrent workers.\n",
      "[Parallel(n_jobs=-1)]: Done   1 tasks      | elapsed:    5.5s\n",
      "[Parallel(n_jobs=-1)]: Done   4 tasks      | elapsed:   11.1s\n",
      "[Parallel(n_jobs=-1)]: Done   9 tasks      | elapsed:   26.7s\n",
      "[Parallel(n_jobs=-1)]: Done  14 tasks      | elapsed:   39.2s\n",
      "[Parallel(n_jobs=-1)]: Done  21 tasks      | elapsed:  1.0min\n",
      "[Parallel(n_jobs=-1)]: Done  28 tasks      | elapsed:  1.4min\n",
      "[Parallel(n_jobs=-1)]: Done  37 tasks      | elapsed:  1.8min\n",
      "[Parallel(n_jobs=-1)]: Done  48 out of  48 | elapsed:  2.4min finished\n"
     ]
    },
    {
     "name": "stdout",
     "output_type": "stream",
     "text": [
      "best_score 0.876979293544458\n",
      "best_parameter {'kneighborsclassifier__n_neighbors': 30, 'kneighborsclassifier__weights': 'distance'}\n",
      "Fitting 4 folds for each of 12 candidates, totalling 48 fits\n"
     ]
    },
    {
     "name": "stderr",
     "output_type": "stream",
     "text": [
      "[Parallel(n_jobs=-1)]: Using backend LokyBackend with 2 concurrent workers.\n",
      "[Parallel(n_jobs=-1)]: Done   1 tasks      | elapsed:    5.4s\n",
      "[Parallel(n_jobs=-1)]: Done   4 tasks      | elapsed:   11.0s\n",
      "[Parallel(n_jobs=-1)]: Done   9 tasks      | elapsed:   26.8s\n",
      "[Parallel(n_jobs=-1)]: Done  14 tasks      | elapsed:   39.5s\n",
      "[Parallel(n_jobs=-1)]: Done  21 tasks      | elapsed:  1.0min\n",
      "[Parallel(n_jobs=-1)]: Done  28 tasks      | elapsed:  1.4min\n",
      "[Parallel(n_jobs=-1)]: Done  37 tasks      | elapsed:  1.8min\n",
      "[Parallel(n_jobs=-1)]: Done  48 out of  48 | elapsed:  2.4min finished\n"
     ]
    },
    {
     "name": "stdout",
     "output_type": "stream",
     "text": [
      "best_score 0.8761672756800649\n",
      "best_parameter {'kneighborsclassifier__n_neighbors': 30, 'kneighborsclassifier__weights': 'distance'}\n",
      "Fitting 4 folds for each of 12 candidates, totalling 48 fits\n"
     ]
    },
    {
     "name": "stderr",
     "output_type": "stream",
     "text": [
      "[Parallel(n_jobs=-1)]: Using backend LokyBackend with 2 concurrent workers.\n",
      "[Parallel(n_jobs=-1)]: Done   1 tasks      | elapsed:    5.6s\n",
      "[Parallel(n_jobs=-1)]: Done   4 tasks      | elapsed:   11.2s\n",
      "[Parallel(n_jobs=-1)]: Done   9 tasks      | elapsed:   27.8s\n",
      "[Parallel(n_jobs=-1)]: Done  14 tasks      | elapsed:   39.8s\n",
      "[Parallel(n_jobs=-1)]: Done  21 tasks      | elapsed:  1.1min\n",
      "[Parallel(n_jobs=-1)]: Done  28 tasks      | elapsed:  1.4min\n",
      "[Parallel(n_jobs=-1)]: Done  37 tasks      | elapsed:  1.9min\n",
      "[Parallel(n_jobs=-1)]: Done  48 out of  48 | elapsed:  2.4min finished\n"
     ]
    },
    {
     "name": "stdout",
     "output_type": "stream",
     "text": [
      "best_score 0.8757612667478685\n",
      "best_parameter {'kneighborsclassifier__n_neighbors': 30, 'kneighborsclassifier__weights': 'uniform'}\n",
      "Fitting 4 folds for each of 12 candidates, totalling 48 fits\n"
     ]
    },
    {
     "name": "stderr",
     "output_type": "stream",
     "text": [
      "[Parallel(n_jobs=-1)]: Using backend LokyBackend with 2 concurrent workers.\n",
      "[Parallel(n_jobs=-1)]: Done   1 tasks      | elapsed:    5.6s\n",
      "[Parallel(n_jobs=-1)]: Done   4 tasks      | elapsed:   11.6s\n",
      "[Parallel(n_jobs=-1)]: Done   9 tasks      | elapsed:   28.1s\n",
      "[Parallel(n_jobs=-1)]: Done  14 tasks      | elapsed:   40.8s\n",
      "[Parallel(n_jobs=-1)]: Done  21 tasks      | elapsed:  1.1min\n",
      "[Parallel(n_jobs=-1)]: Done  28 tasks      | elapsed:  1.4min\n",
      "[Parallel(n_jobs=-1)]: Done  37 tasks      | elapsed:  2.0min\n",
      "[Parallel(n_jobs=-1)]: Done  48 out of  48 | elapsed:  2.5min finished\n"
     ]
    },
    {
     "name": "stdout",
     "output_type": "stream",
     "text": [
      "best_score 0.88022736500203\n",
      "best_parameter {'kneighborsclassifier__n_neighbors': 10, 'kneighborsclassifier__weights': 'uniform'}\n",
      "Fitting 4 folds for each of 12 candidates, totalling 48 fits\n"
     ]
    },
    {
     "name": "stderr",
     "output_type": "stream",
     "text": [
      "[Parallel(n_jobs=-1)]: Using backend LokyBackend with 2 concurrent workers.\n",
      "[Parallel(n_jobs=-1)]: Done   1 tasks      | elapsed:    5.4s\n",
      "[Parallel(n_jobs=-1)]: Done   4 tasks      | elapsed:   13.2s\n",
      "[Parallel(n_jobs=-1)]: Done   9 tasks      | elapsed:   28.3s\n",
      "[Parallel(n_jobs=-1)]: Done  14 tasks      | elapsed:   40.7s\n",
      "[Parallel(n_jobs=-1)]: Done  21 tasks      | elapsed:  1.1min\n",
      "[Parallel(n_jobs=-1)]: Done  28 tasks      | elapsed:  1.4min\n",
      "[Parallel(n_jobs=-1)]: Done  37 tasks      | elapsed:  1.9min\n",
      "[Parallel(n_jobs=-1)]: Done  48 out of  48 | elapsed:  2.5min finished\n"
     ]
    },
    {
     "name": "stdout",
     "output_type": "stream",
     "text": [
      "best_score 0.8764717823792123\n",
      "best_parameter {'kneighborsclassifier__n_neighbors': 10, 'kneighborsclassifier__weights': 'uniform'}\n",
      "Fitting 4 folds for each of 12 candidates, totalling 48 fits\n"
     ]
    },
    {
     "name": "stderr",
     "output_type": "stream",
     "text": [
      "[Parallel(n_jobs=-1)]: Using backend LokyBackend with 2 concurrent workers.\n",
      "[Parallel(n_jobs=-1)]: Done   1 tasks      | elapsed:    5.0s\n",
      "[Parallel(n_jobs=-1)]: Done   4 tasks      | elapsed:   10.9s\n",
      "[Parallel(n_jobs=-1)]: Done   9 tasks      | elapsed:   26.6s\n",
      "[Parallel(n_jobs=-1)]: Done  14 tasks      | elapsed:   37.9s\n",
      "[Parallel(n_jobs=-1)]: Done  21 tasks      | elapsed:  1.0min\n",
      "[Parallel(n_jobs=-1)]: Done  28 tasks      | elapsed:  1.3min\n",
      "[Parallel(n_jobs=-1)]: Done  37 tasks      | elapsed:  1.8min\n",
      "[Parallel(n_jobs=-1)]: Done  48 out of  48 | elapsed:  2.3min finished\n"
     ]
    },
    {
     "name": "stdout",
     "output_type": "stream",
     "text": [
      "best_score 0.8753552578156719\n",
      "best_parameter {'kneighborsclassifier__n_neighbors': 30, 'kneighborsclassifier__weights': 'distance'}\n",
      "Fitting 4 folds for each of 12 candidates, totalling 48 fits\n"
     ]
    },
    {
     "name": "stderr",
     "output_type": "stream",
     "text": [
      "[Parallel(n_jobs=-1)]: Using backend LokyBackend with 2 concurrent workers.\n",
      "[Parallel(n_jobs=-1)]: Done   1 tasks      | elapsed:    5.5s\n",
      "[Parallel(n_jobs=-1)]: Done   4 tasks      | elapsed:   10.9s\n",
      "[Parallel(n_jobs=-1)]: Done   9 tasks      | elapsed:   26.6s\n",
      "[Parallel(n_jobs=-1)]: Done  14 tasks      | elapsed:   38.9s\n",
      "[Parallel(n_jobs=-1)]: Done  21 tasks      | elapsed:  1.0min\n",
      "[Parallel(n_jobs=-1)]: Done  28 tasks      | elapsed:  1.3min\n",
      "[Parallel(n_jobs=-1)]: Done  37 tasks      | elapsed:  1.8min\n",
      "[Parallel(n_jobs=-1)]: Done  48 out of  48 | elapsed:  2.4min finished\n"
     ]
    },
    {
     "name": "stdout",
     "output_type": "stream",
     "text": [
      "best_score 0.8775883069427527\n",
      "best_parameter {'kneighborsclassifier__n_neighbors': 30, 'kneighborsclassifier__weights': 'uniform'}\n",
      "Fitting 4 folds for each of 12 candidates, totalling 48 fits\n"
     ]
    },
    {
     "name": "stderr",
     "output_type": "stream",
     "text": [
      "[Parallel(n_jobs=-1)]: Using backend LokyBackend with 2 concurrent workers.\n",
      "[Parallel(n_jobs=-1)]: Done   1 tasks      | elapsed:    5.4s\n",
      "[Parallel(n_jobs=-1)]: Done   4 tasks      | elapsed:   11.0s\n",
      "[Parallel(n_jobs=-1)]: Done   9 tasks      | elapsed:   26.5s\n",
      "[Parallel(n_jobs=-1)]: Done  14 tasks      | elapsed:   38.5s\n",
      "[Parallel(n_jobs=-1)]: Done  21 tasks      | elapsed:  1.0min\n",
      "[Parallel(n_jobs=-1)]: Done  28 tasks      | elapsed:  1.3min\n",
      "[Parallel(n_jobs=-1)]: Done  37 tasks      | elapsed:  1.8min\n",
      "[Parallel(n_jobs=-1)]: Done  48 out of  48 | elapsed:  2.4min finished\n"
     ]
    },
    {
     "name": "stdout",
     "output_type": "stream",
     "text": [
      "best_score 0.8771822980105562\n",
      "best_parameter {'kneighborsclassifier__n_neighbors': 20, 'kneighborsclassifier__weights': 'distance'}\n",
      "Fitting 4 folds for each of 12 candidates, totalling 48 fits\n"
     ]
    },
    {
     "name": "stderr",
     "output_type": "stream",
     "text": [
      "[Parallel(n_jobs=-1)]: Using backend LokyBackend with 2 concurrent workers.\n",
      "[Parallel(n_jobs=-1)]: Done   1 tasks      | elapsed:    5.4s\n",
      "[Parallel(n_jobs=-1)]: Done   4 tasks      | elapsed:   10.7s\n",
      "[Parallel(n_jobs=-1)]: Done   9 tasks      | elapsed:   26.8s\n",
      "[Parallel(n_jobs=-1)]: Done  14 tasks      | elapsed:   38.6s\n",
      "[Parallel(n_jobs=-1)]: Done  21 tasks      | elapsed:  1.0min\n",
      "[Parallel(n_jobs=-1)]: Done  28 tasks      | elapsed:  1.3min\n",
      "[Parallel(n_jobs=-1)]: Done  37 tasks      | elapsed:  1.8min\n",
      "[Parallel(n_jobs=-1)]: Done  48 out of  48 | elapsed:  2.4min finished\n"
     ]
    },
    {
     "name": "stdout",
     "output_type": "stream",
     "text": [
      "best_score 0.8755582622817702\n",
      "best_parameter {'kneighborsclassifier__n_neighbors': 30, 'kneighborsclassifier__weights': 'uniform'}\n",
      "Fitting 4 folds for each of 12 candidates, totalling 48 fits\n"
     ]
    },
    {
     "name": "stderr",
     "output_type": "stream",
     "text": [
      "[Parallel(n_jobs=-1)]: Using backend LokyBackend with 2 concurrent workers.\n",
      "[Parallel(n_jobs=-1)]: Done   1 tasks      | elapsed:    5.2s\n",
      "[Parallel(n_jobs=-1)]: Done   4 tasks      | elapsed:   11.1s\n",
      "[Parallel(n_jobs=-1)]: Done   9 tasks      | elapsed:   25.8s\n",
      "[Parallel(n_jobs=-1)]: Done  14 tasks      | elapsed:   38.9s\n",
      "[Parallel(n_jobs=-1)]: Done  21 tasks      | elapsed:   58.7s\n",
      "[Parallel(n_jobs=-1)]: Done  28 tasks      | elapsed:  1.3min\n",
      "[Parallel(n_jobs=-1)]: Done  37 tasks      | elapsed:  1.8min\n",
      "[Parallel(n_jobs=-1)]: Done  48 out of  48 | elapsed:  2.4min finished\n"
     ]
    },
    {
     "name": "stdout",
     "output_type": "stream",
     "text": [
      "best_score 0.8785018270401949\n",
      "best_parameter {'kneighborsclassifier__n_neighbors': 10, 'kneighborsclassifier__weights': 'distance'}\n",
      "Random Forest's mean & std of f1 is  0.877 +/- 0.0014\n"
     ]
    }
   ],
   "source": [
    "test_scores = []\n",
    "for i in range(1, 11):\n",
    "    grid, score, X_test, y_test = ML_pipeline_kfold_GridSearchCV_knn(X,y,42*i,4)  \n",
    "    print('best_score', grid.best_score_)\n",
    "    print('best_parameter',grid.best_params_)\n",
    "    test_scores.append(grid.best_score_)\n",
    "print(\"Random Forest's mean & std of f1 is \",np.around(np.mean(test_scores),4), '+/-', np.around(np.std(test_scores),4))"
   ]
  },
  {
   "cell_type": "markdown",
   "metadata": {},
   "source": [
    "### Permutation feature importance - Global "
   ]
  },
  {
   "cell_type": "code",
   "execution_count": 62,
   "metadata": {},
   "outputs": [
    {
     "name": "stdout",
     "output_type": "stream",
     "text": [
      "test score =  0.8912337662337663\n",
      "test baseline =  0.8449675324675324\n",
      "shuffling Administrative\n",
      "   shuffled test score: 0.889 +/- 0.001\n",
      "shuffling Administrative_Duration\n",
      "   shuffled test score: 0.891 +/- 0.001\n",
      "shuffling Informational\n",
      "   shuffled test score: 0.891 +/- 0.001\n",
      "shuffling Informational_Duration\n",
      "   shuffled test score: 0.892 +/- 0.0\n",
      "shuffling ProductRelated\n",
      "   shuffled test score: 0.891 +/- 0.001\n",
      "shuffling ProductRelated_Duration\n",
      "   shuffled test score: 0.891 +/- 0.001\n",
      "shuffling BounceRates\n",
      "   shuffled test score: 0.891 +/- 0.0\n",
      "shuffling ExitRates\n",
      "   shuffled test score: 0.891 +/- 0.0\n",
      "shuffling PageValues\n",
      "   shuffled test score: 0.765 +/- 0.005\n",
      "shuffling SpecialDay\n",
      "   shuffled test score: 0.891 +/- 0.001\n",
      "shuffling Month\n",
      "   shuffled test score: 0.89 +/- 0.002\n",
      "shuffling OperatingSystems\n",
      "   shuffled test score: 0.893 +/- 0.001\n",
      "shuffling Browser\n",
      "   shuffled test score: 0.891 +/- 0.001\n",
      "shuffling Region\n",
      "   shuffled test score: 0.891 +/- 0.001\n",
      "shuffling TrafficType\n",
      "   shuffled test score: 0.89 +/- 0.001\n",
      "shuffling VisitorType\n",
      "   shuffled test score: 0.89 +/- 0.001\n",
      "shuffling Weekend\n",
      "   shuffled test score: 0.89 +/- 0.001\n"
     ]
    }
   ],
   "source": [
    "nr_runs = 10\n",
    "scores = np.zeros([len(feature_names),nr_runs])\n",
    "test_score = grid.score(X_test,y_test)\n",
    "print('test score = ',test_score)\n",
    "print('test baseline = ',np.sum(y_test == 0)/len(y_test))\n",
    "# loop through the features\n",
    "for i in range(len(feature_names)):\n",
    "    print('shuffling '+ str(feature_names[i]))\n",
    "    acc_scores = []\n",
    "    for j in range(nr_runs):\n",
    "        X_test_shuffled = X_test.copy()\n",
    "        X_test_shuffled[ftr_names[i]] = np.random.permutation(X_test[feature_names[i]].values)\n",
    "        acc_scores.append(grid.score(X_test_shuffled,y_test))\n",
    "    print('   shuffled test score:',np.around(np.mean(acc_scores),3),'+/-',np.around(np.std(acc_scores),3))\n",
    "    scores[i] = acc_scores"
   ]
  },
  {
   "cell_type": "code",
   "execution_count": 74,
   "metadata": {},
   "outputs": [
    {
     "data": {
      "image/png": "[encoded data removed]",
      "text/plain": [
       "<Figure size 576x432 with 1 Axes>"
      ]
     },
     "metadata": {},
     "output_type": "display_data"
    }
   ],
   "source": [
    "sorted_indcs = np.argsort(np.mean(scores,axis=1))[::-1]\n",
    "label = [feature_names[x] for x in sorted_indcs]\n",
    "plt.rcParams.update({'font.size': 14})\n",
    "plt.figure(figsize=(8,6))\n",
    "plt.boxplot(scores[sorted_indcs].T,labels=label,vert=False)\n",
    "plt.axvline(test_score,label='test score')\n",
    "plt.title(\"Permutation Importances (test set)\")\n",
    "plt.xlabel('score with perturbed feature')\n",
    "plt.legend()\n",
    "plt.tight_layout()\n",
    "plt.savefig('../figures/permutation_importance.png', bbox_inches = 'tight')\n",
    "plt.show()"
   ]
  },
  {
   "cell_type": "markdown",
   "metadata": {},
   "source": [
    "### Sampling balance data from imbalanced data - Possible Approach\n",
    "\n",
    "<https://www.kaggle.com/rafjaa/resampling-strategies-for-imbalanced-datasets>\n",
    "\n",
    "A widely adopted technique for dealing with highly unbalanced datasets is called resampling. It consists of removing samples from the majority class (under-sampling) and / or adding more examples from the minority class (over-sampling)."
   ]
  },
  {
   "cell_type": "code",
   "execution_count": null,
   "metadata": {},
   "outputs": [],
   "source": []
  }
 ],
 "metadata": {
  "kernelspec": {
   "display_name": "Python 3",
   "language": "python",
   "name": "python3"
  },
  "language_info": {
   "codemirror_mode": {
    "name": "ipython",
    "version": 3
   },
   "file_extension": ".py",
   "mimetype": "text/x-python",
   "name": "python",
   "nbconvert_exporter": "python",
   "pygments_lexer": "ipython3",
   "version": "3.7.3"
  }
 },
 "nbformat": 4,
 "nbformat_minor": 4
}
