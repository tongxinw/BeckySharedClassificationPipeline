{
  "nbformat": 4,
  "nbformat_minor": 0,
  "metadata": {
    "colab": {
      "name": "How to download images from Open Image Dataset V6.ipynb",
      "provenance": [],
      "collapsed_sections": [],
      "include_colab_link": true
    },
    "kernelspec": {
      "name": "python3",
      "display_name": "Python 3"
    }
  },
  "cells": [
    {
      "cell_type": "markdown",
      "metadata": {
        "id": "view-in-github",
        "colab_type": "text"
      },
      "source": [
        "<a href=\"https://colab.research.google.com/github/tongxinw/BeckySharedClassificationPipeline/blob/master/How_to_download_images_from_Open_Image_Dataset_V6.ipynb\" target=\"_parent\"><img src=\"https://colab.research.google.com/assets/colab-badge.svg\" alt=\"Open In Colab\"/></a>"
      ]
    },
    {
      "cell_type": "markdown",
      "metadata": {
        "id": "kAVXeLE-UKSL",
        "colab_type": "text"
      },
      "source": [
        "# Download images from Open Image Dataset to train your own YOLOv3\n",
        "\n",
        "DATA 2040 Final Project\n",
        "\n",
        "Tongxin Wang from CodeBrew"
      ]
    },
    {
      "cell_type": "markdown",
      "metadata": {
        "id": "zKYu0hCMTMr-",
        "colab_type": "text"
      },
      "source": [
        "## Disclaimer: \n",
        "This tutorial used many sources online. For downloading images, [OIDv4_toolkit](https://github.com/EscVM/OIDv4_ToolKit) is the tool that saves your life. And to modify images and labels so that we can use them to train YOLOv3, I used the code from [TheAIGuy](https://github.com/theAIGuysCode/OIDv4_ToolKit) and followed his [YouTube tutorial](https://www.youtube.com/watch?v=_4A9inxGqRM). This notebook serves as a summary of the aformentioned steps.\n",
        "\n",
        "Note: I encountered many bugs even following exact the same steps as the repo and video. So, stay calm and embrace Google and [Stack Overflow](https://stackoverflow.com/). "
      ]
    },
    {
      "cell_type": "markdown",
      "metadata": {
        "id": "rhgZM6xlUW1_",
        "colab_type": "text"
      },
      "source": [
        "## Step 1: Download images and labels\n",
        "\n",
        "Make sure you have python3 installed. \n",
        "```\n",
        "$ cd PATH where you want to save images and labels\n",
        "$ git clone https://github.com/EscVM/OIDv4_ToolKit.git\n",
        "$ cd OIDv4_ToolKit\n",
        "$ pip3 install -r -requirements.txt\n",
        "\n",
        "# --classes allows you to download the classes you are interested in.\n",
        "# You can download multiple classes at once by separating then with space\n",
        "# e.g. -- classes Traffic_sign apple teddy_bera\n",
        "\n",
        "# --type_csv allows you to download train/validation/test dataset\n",
        "# Try with --limit 5 first to make sure you can download, \n",
        "# then try without limit and you will download all the images in your targeting classes\n",
        "$ python3 main.py downloader --classes Traffic_sign --type_csv train --limit 1000\n",
        "```"
      ]
    },
    {
      "cell_type": "markdown",
      "metadata": {
        "id": "Vpd4Z6ZxWYSK",
        "colab_type": "text"
      },
      "source": [
        "## Step 2: Convert format of labels and bounding boxes to fit YOLO v3 code requirements."
      ]
    },
    {
      "cell_type": "markdown",
      "metadata": {
        "id": "68iEf9SSs5LX",
        "colab_type": "text"
      },
      "source": [
        "Go to the directory and find classes.txt. Add the class you download there and save the file. \n",
        "For example, our target class is Traffic sign, so I deleted what's in the txt file and added Traffic sign in there. \n",
        "\n",
        "Then go back to your terminal to convert annotations to YOLOv3 friendly version for your train/test/validation folders.\n",
        "```\n",
        "$ python3 convert_annotations.py\n",
        "```\n",
        "\n",
        "In the convert step, we denormalized each coordinate so that can fulfill the requirement for YOLOv3 training purposes. "
      ]
    },
    {
      "cell_type": "markdown",
      "metadata": {
        "id": "bliIKBiEu1x_",
        "colab_type": "text"
      },
      "source": [
        "## Now you have images and annotations in one folder. Time to train a customized YOLOv3!\n",
        "\n",
        "The class we choose for this project is Traffic sign, which gived us 2818 training images, 20 validation images, and 44 test images. \n",
        "\n",
        "Here are some samples of what an image and its annotation look like. \n",
        "\n",
        "<img src=\"https://farm5.staticflickr.com/33/98148709_4f6951a0ed_o.jpg\" alt=\"drawing\" width=\"200\"/>\n",
        "\n",
        "And for the txt file corresponding to this image, it contains the label (0 here since we only have 1 class to train) & its top left corner and bottom right corner corrdinates to indicate where the bounding boxes are. \n",
        "\n",
        "txt file content: (we can see there are three traffic signs in the image, thus there are three lines of info)\n",
        "\n",
        "```\n",
        "name_of_the_class left top right bottom\n",
        "```\n",
        "\n",
        "0 0.25694946705710103 0.7125 0.26172599999999996 0.281875\n",
        "\n",
        "0 0.28504730746705714 0.4515625 0.23545999999999995 0.23562499999999997\n",
        "\n",
        "0 0.3134879209370425 0.25480468749999996 0.22607899999999995 0.19500000000000003"
      ]
    }
  ]
}